{
 "cells": [
  {
   "attachments": {},
   "cell_type": "markdown",
   "metadata": {},
   "source": [
    "<h1 align='center'>Introdução à Computação Visual - 2022/1</h1>\n",
    "<h3 align='center'>Trabalho Prático 1: Compressão de Imagens</h3>\n",
    "\n",
    "Autor: Flávio Marcilio de Oliveira"
   ]
  },
  {
   "cell_type": "markdown",
   "metadata": {},
   "source": [
    "## Summary\n",
    "\n",
    "- [0. Preparação](#0-preparação)\n",
    "  - [Bibliotecas Necessárias](#bibliotecas-necessárias)\n",
    "  - [Funções Auxiliares](#funções-auxiliares)\n",
    "  - [Matriz de Quantização](#matriz-de-quantização-utilizada)\n",
    "  - [Parâmetros Necessários para Codificação e Decodificação](#parâmetros-necessários-para-codificação-e-decodificação)\n",
    "- [Parte I - Codificação](#parte-i---codificação)\n",
    "  - [I.1 Leitura da Imagem a ser Comprimida](#i1-leitura-da-imagem-a-ser-comprimida)\n",
    "  - [I.2 Cálculo da Transformada e Quantização](#i2-cálculo-da-transformada-e-quantização)\n",
    "  - [I.3 Codificação de Símbolos](#i3-codificação-de-símbolos)\n",
    "    - [I.3.1 Cálculo do histograma](#i31-cálculo-do-histograma)\n",
    "    - [I.3.2 Codificação utilizando o algoritmo de Huffman](#i32-codificação-utilizando-o-algoritmo-de-huffman)\n",
    "    - [I.3.3 Métricas da codificação](#i33-métricas-da-codificação)\n",
    "  - [I.4 Gravando a Imagem Codificada](#i4-gravando-a-imagem-codificada)\n",
    "- [Parte II - Decodificação](#parte-ii---decodificação)\n",
    "  - [II.1 Lendo a Imagem Codificada](#ii1-lendo-a-imagem-codificada)\n",
    "  - [II.2 Calculando a Matriz Quantizada e a Transformada Inversa](#ii2-calculando-a-matriz-quantizada-e-a-transformada-inversa)\n",
    "  - [II.3 Métricas de Qualidade](#ii3-métricas-de-qualidade)"
   ]
  },
  {
   "cell_type": "markdown",
   "metadata": {},
   "source": [
    "## 0. Preparação"
   ]
  },
  {
   "cell_type": "markdown",
   "metadata": {},
   "source": [
    "\n",
    "**Esta etapa deve ser executada antes das duas partes I. Codificação e II. Decodificação.**\n",
    "\n",
    "### Bibliotecas Necessárias"
   ]
  },
  {
   "cell_type": "code",
   "execution_count": null,
   "metadata": {},
   "outputs": [],
   "source": [
    "%matplotlib inline\n",
    "import cv2\n",
    "import numpy as np\n",
    "from matplotlib import pyplot as plt\n",
    "from scipy import fftpack"
   ]
  },
  {
   "cell_type": "markdown",
   "metadata": {},
   "source": [
    "### Funções Auxiliares"
   ]
  },
  {
   "cell_type": "code",
   "execution_count": null,
   "metadata": {},
   "outputs": [],
   "source": [
    "# Calcula o histograma de uma matriz\n",
    "def calcHist(mat):\n",
    "    # Transformando a matriz em um vetor\n",
    "    arr = mat.ravel()\n",
    "    # Calculando o Histograma\n",
    "    histo = {}\n",
    "    for i in arr:\n",
    "        chave = str(np.round(i))\n",
    "        if (histo.keys().__contains__(chave)):\n",
    "            histo[chave] += 1\n",
    "        else:\n",
    "            histo[chave] = 1\n",
    "    # Calculando as probabilidades de cada símbolo\n",
    "    a = 0\n",
    "    for x in histo.values():\n",
    "        a += x\n",
    "    for k, v in histo.items():\n",
    "        histo[k] = v/a\n",
    "    return histo\n",
    "\n",
    "# Calcula a entropia da imagem\n",
    "def calcEntropy(img):\n",
    "    hist = calcHist(img)\n",
    "    values =  np.array(list(hist.values()))\n",
    "    logs = np.log2(values + 0.00001)\n",
    "    entropy = -1 * (values*logs).sum()\n",
    "    return entropy\n",
    "\n",
    "# Algoritmo de Huffman\n",
    "from heapq import heappush, heappop, heapify\n",
    "from collections import defaultdict\n",
    "\n",
    "def encode(symb2freq):\n",
    "    \"\"\"Huffman encode the given dict mapping symbols to weights\"\"\"\n",
    "    heap = [[wt, [sym, \"\"]] for sym, wt in symb2freq.items()]\n",
    "    heapify(heap)\n",
    "    while len(heap) > 1:\n",
    "        lo = heappop(heap)\n",
    "        hi = heappop(heap)\n",
    "        for pair in lo[1:]:\n",
    "            pair[1] = '0' + pair[1]\n",
    "        for pair in hi[1:]:\n",
    "            pair[1] = '1' + pair[1]\n",
    "        heappush(heap, [lo[0] + hi[0]] + lo[1:] + hi[1:])\n",
    "    return sorted(heappop(heap)[1:], key=lambda p: (len(p[-1]), p))\n",
    "\n",
    "# Configuração da apresentação da imagem\n",
    "def mostra_img_unica(img, titulo='Imagem'):\n",
    "    plt.imshow(img, cmap='gray', clim=(0,255))\n",
    "    plt.title(titulo)\n",
    "    plt.axis('off')\n",
    "    plt.show()\n",
    "\n",
    "# Calcula a DCT de uma imagem\n",
    "def get_2D_dct(img):\n",
    "    return fftpack.dct(fftpack.dct(img.T, norm='ortho').T, norm='ortho')\n",
    "\n",
    "# Calcula a DCT inversa\n",
    "def get_2D_idct(coefficients):\n",
    "    return fftpack.idct(fftpack.idct(coefficients.T, norm='ortho').T, norm='ortho')\n",
    "\n",
    "# Calcula a raiz do erro médio quadrático\n",
    "def rmse(predictions, targets):\n",
    "    return np.sqrt(((predictions - targets) ** 2).mean())\n",
    "\n",
    "# Calcula a relação sinal-ruído de pico\n",
    "def psnr(predictions, targets):\n",
    "    return 20 * np.log10(255/rmse(predictions, targets))"
   ]
  },
  {
   "cell_type": "markdown",
   "metadata": {},
   "source": [
    "### Matriz de Quantização Utilizada"
   ]
  },
  {
   "cell_type": "code",
   "execution_count": null,
   "metadata": {},
   "outputs": [],
   "source": [
    "np.set_printoptions(precision=3)\n",
    "np.set_printoptions(suppress=True)\n",
    "\n",
    "# Matriz de quantização\n",
    "QM = np.matrix([[16, 11, 10, 16, 24, 40, 51, 61], \n",
    "                [12, 12, 14, 19, 26, 58, 60, 55],\n",
    "                [14, 13, 16, 24, 40, 57, 69, 56],\n",
    "                [14, 17, 22, 29, 51, 87, 80, 62],\n",
    "                [18, 22, 37, 56, 68, 109, 103, 77],\n",
    "                [24, 35, 55, 64, 81, 104, 113, 92],\n",
    "                [49, 64, 78, 87, 103, 121, 120, 101],\n",
    "                [72, 92, 95, 98, 112, 100, 103, 99]])\n",
    "\n",
    "QM = QM.astype(float)\n",
    "\n",
    "print(\"\\nMatriz de quantização\")\n",
    "print(QM)"
   ]
  },
  {
   "cell_type": "markdown",
   "metadata": {},
   "source": [
    "### Parâmetros Necessários para Codificação e Decodificação"
   ]
  },
  {
   "cell_type": "code",
   "execution_count": null,
   "metadata": {},
   "outputs": [],
   "source": [
    "# Imagem a ser comprimida\n",
    "imagem = 'vista.jpg'\n",
    "\n",
    "# Imagem comprimida sempre definida com extensão txt\n",
    "imagem_comprimida = 'vista.txt'\n",
    "\n",
    "# Tamanho padrão do bloco para execução da transformada\n",
    "step = 8"
   ]
  },
  {
   "cell_type": "markdown",
   "metadata": {},
   "source": [
    "# Parte I - Codificação"
   ]
  },
  {
   "cell_type": "markdown",
   "metadata": {},
   "source": [
    "## I.1 Leitura da Imagem a ser Comprimida"
   ]
  },
  {
   "cell_type": "code",
   "execution_count": null,
   "metadata": {},
   "outputs": [],
   "source": [
    "# Lendo imagem original em escala de cinza\n",
    "img_original = cv2.imread(imagem, cv2.IMREAD_GRAYSCALE)\n",
    "mostra_img_unica(img_original, titulo='Imagem a ser comprimida')"
   ]
  },
  {
   "cell_type": "markdown",
   "metadata": {},
   "source": [
    "## I.2 Cálculo da Transformada e Quantização"
   ]
  },
  {
   "cell_type": "code",
   "execution_count": null,
   "metadata": {},
   "outputs": [],
   "source": [
    "# Visualização das imagens na forma de matriz\n",
    "img_original = img_original.astype(float)\n",
    "print(\"\\nImagem original:\")\n",
    "print(img_original)\n",
    "\n",
    "img_transladada = img_original - 128\n",
    "print(\"\\nImagem subtraida de 128:\")\n",
    "print(img_transladada)\n",
    "\n",
    "# Dimensões da imagem lida\n",
    "altura, largura = img_original.shape\n",
    "\n",
    "DCT = np.zeros((altura, largura))\n",
    "matriz_quantizada = np.zeros((altura, largura))\n",
    "\n",
    "for linha in range(0, altura, step):\n",
    "    for coluna in range(0, largura, step):\n",
    "        if ((img_transladada[linha:linha+step,coluna:coluna+step]).shape == (step,step)):\n",
    "            dct = get_2D_dct(img_transladada[linha:linha+step, coluna:coluna+step])\n",
    "            DCT[linha:linha+step, coluna:coluna+step] = dct\n",
    "            matriz_quantizada[linha:linha+step, coluna:coluna+step] = np.divide(dct, QM)\n",
    "\n",
    "print(\"\\nMatriz quantizada:\")\n",
    "print(matriz_quantizada)\n",
    "\n",
    "mostra_img_unica(DCT, \"Imagem da DCT\")"
   ]
  },
  {
   "cell_type": "markdown",
   "metadata": {},
   "source": [
    "## I.3 Codificação de Símbolos\n",
    "### I.3.1 Cálculo do Histograma"
   ]
  },
  {
   "cell_type": "code",
   "execution_count": null,
   "metadata": {},
   "outputs": [],
   "source": [
    "histo = calcHist(matriz_quantizada)"
   ]
  },
  {
   "cell_type": "markdown",
   "metadata": {},
   "source": [
    "### I.3.2 Codificação utilizando o algoritmo de Huffman"
   ]
  },
  {
   "cell_type": "code",
   "execution_count": null,
   "metadata": {},
   "outputs": [],
   "source": [
    "# Codificação\n",
    "huff = encode(histo)\n",
    "\n",
    "print (\"Symbol\\tWeight\\tHuffman Code\")\n",
    "for p in huff:\n",
    "    if (histo[p[0]] > 0):\n",
    "        print (\"%s\\t%f\\t%s\" % (p[0], histo[p[0]], p[1]))"
   ]
  },
  {
   "cell_type": "markdown",
   "metadata": {},
   "source": [
    "### I.3.3 Métricas da Codificação"
   ]
  },
  {
   "cell_type": "code",
   "execution_count": null,
   "metadata": {},
   "outputs": [],
   "source": [
    "nbits = 0\n",
    "for i in range(0, len(huff)):\n",
    "    nbits += len(huff[i][1]) * histo[huff[i][0]] * altura * largura\n",
    "    \n",
    "# bits per pixel\n",
    "bpp = nbits / (altura * largura)\n",
    "entimg1 = calcEntropy(img_original)\n",
    "print (\"\\nSummary:\")    \n",
    "print (\"Image entropy: %5.3f\" % entimg1)\n",
    "print (\"size: %d bytes\" % (nbits / 8))\n",
    "print (\"%5.3f bits/pixel\" % bpp)\n",
    "print (\"code efficiency: %5.3f\" % (entimg1/bpp))\n",
    "print (\"Compression ratio (without header): %5.3f\" % (8/bpp))"
   ]
  },
  {
   "cell_type": "markdown",
   "metadata": {},
   "source": [
    "## I.4 Gravando a Imagem Codificada"
   ]
  },
  {
   "cell_type": "code",
   "execution_count": null,
   "metadata": {},
   "outputs": [],
   "source": [
    "arq = open(imagem_comprimida, 'w')\n",
    "\n",
    "# Gravando o cabeçalho - Dicionário da Codificação Huffman\n",
    "for i in range(0, len(huff)):\n",
    "    arq.write(\"%s %s\" %(huff[i][0], huff[i][1]))\n",
    "    arq.write(\"\\n\")\n",
    "\n",
    "# Utilizado para indicar fim do cabeçalho\n",
    "arq.write(\"\\n\")\n",
    "\n",
    "# Gravando a imagem codificada\n",
    "for linha in range(0, altura):\n",
    "    for coluna in range(0, largura):\n",
    "        chave = str(np.round(matriz_quantizada[linha][coluna]))\n",
    "        arq.write(\"%s\" %dict(huff)[chave])\n",
    "    arq.write(\"\\n\")\n",
    "arq.close()"
   ]
  },
  {
   "cell_type": "markdown",
   "metadata": {},
   "source": [
    "# Parte II - Decodificação"
   ]
  },
  {
   "cell_type": "markdown",
   "metadata": {},
   "source": [
    "## II.1 Lendo a Imagem Codificada"
   ]
  },
  {
   "cell_type": "code",
   "execution_count": null,
   "metadata": {},
   "outputs": [],
   "source": [
    "# Recriando o dicionário com a codificação Huffman\n",
    "read = open(imagem_comprimida, 'r')\n",
    "linha_lida = read.readline()\n",
    "cod_huff = {}\n",
    "while (linha_lida != '\\n'):\n",
    "    dicionario = linha_lida.split(' ')\n",
    "    cod_huff[dicionario[1].removesuffix('\\n')] = dicionario[0]\n",
    "    linha_lida = read.readline()\n",
    "\n",
    "\n",
    "# Fazendo a decodificação e recriando a matriz quantizada\n",
    "bit_lido = read.read(1)\n",
    "matriz_quantizada_lida = []\n",
    "linha_matriz = []\n",
    "linha_corrente = 0\n",
    "coluna_corrente = 0\n",
    "chave = ''\n",
    "\n",
    "while True:\n",
    "    while (bit_lido != '\\n'):\n",
    "        chave += bit_lido\n",
    "        if(cod_huff.keys().__contains__(chave)):\n",
    "            linha_matriz.append(float(cod_huff[chave]))\n",
    "            coluna_corrente += 1\n",
    "            chave = ''\n",
    "        bit_lido = read.read(1)\n",
    "    linha_corrente += 1\n",
    "    matriz_quantizada_lida.append(linha_matriz)\n",
    "    linha_matriz = []\n",
    "    coluna_corrente = 0\n",
    "    bit_lido = read.read(1)\n",
    "    if not bit_lido:\n",
    "        break\n",
    "\n",
    "read.close()\n",
    "matriz_quantizada_lida = np.matrix(matriz_quantizada_lida)"
   ]
  },
  {
   "cell_type": "code",
   "execution_count": null,
   "metadata": {},
   "outputs": [],
   "source": [
    "# Código Huffman lido\n",
    "print (\"Symbol\\tHuffman Code\")\n",
    "for k, v in cod_huff.items():\n",
    "    print (\"%s\\t%s\" % (v, k))"
   ]
  },
  {
   "cell_type": "code",
   "execution_count": null,
   "metadata": {},
   "outputs": [],
   "source": [
    "# Matriz quantizada lida\n",
    "print(\"\\nMatriz quantizada lida:\")\n",
    "print(matriz_quantizada_lida)"
   ]
  },
  {
   "cell_type": "markdown",
   "metadata": {},
   "source": [
    "## II.2 Calculando a Matriz Quantizada e a Transformada Inversa"
   ]
  },
  {
   "cell_type": "code",
   "execution_count": null,
   "metadata": {},
   "outputs": [],
   "source": [
    "# Fazendo a dequantização e calculando a Transformada Inversa\n",
    "altura, largura = matriz_quantizada_lida.shape\n",
    "IDCT = np.zeros((altura, largura))\n",
    "matriz_dequantizada = np.zeros((altura, largura))\n",
    "\n",
    "for linha in range(0, altura, step):\n",
    "    for coluna in range(0, largura, step):\n",
    "        if ((matriz_quantizada_lida[linha:linha+step,coluna:coluna+step]).shape == (step,step)):\n",
    "            idct = np.multiply(matriz_quantizada_lida[linha:linha+step,coluna:coluna+step], QM)\n",
    "            matriz_dequantizada[linha:linha+step, coluna:coluna+step] = idct\n",
    "            idct = get_2D_idct(idct)\n",
    "            IDCT[linha:linha+step, coluna:coluna+step] = idct\n",
    "\n",
    "# Somando 128 na matriz da transformada inversa\n",
    "img_decodificada = IDCT + 128\n",
    "\n",
    "print(\"\\nMatriz Dequantizada:\")\n",
    "print(matriz_dequantizada)\n",
    "\n",
    "print(\"\\nIDCT da imagem:\")\n",
    "print(IDCT)\n",
    "\n",
    "mostra_img_unica(img_decodificada, \"Imagem reconstruida\")"
   ]
  },
  {
   "cell_type": "markdown",
   "metadata": {},
   "source": [
    "## II.3 Métricas de Qualidade"
   ]
  },
  {
   "cell_type": "code",
   "execution_count": null,
   "metadata": {},
   "outputs": [],
   "source": [
    "img_original = cv2.imread(imagem, cv2.IMREAD_GRAYSCALE)\n",
    "print (\"RMSE: %5.3f\" % rmse(img_original, img_decodificada))\n",
    "print (\"PSNR: %5.3f\" % psnr(img_original, img_decodificada))"
   ]
  }
 ],
 "metadata": {
  "interpreter": {
   "hash": "81794d4967e6c3204c66dcd87b604927b115b27c00565d3d43f05ba2f3a2cb0d"
  },
  "kernelspec": {
   "display_name": "Python 3.9.4 64-bit",
   "language": "python",
   "name": "python3"
  },
  "language_info": {
   "codemirror_mode": {
    "name": "ipython",
    "version": 3
   },
   "file_extension": ".py",
   "mimetype": "text/x-python",
   "name": "python",
   "nbconvert_exporter": "python",
   "pygments_lexer": "ipython3",
   "version": "3.9.4 (tags/v3.9.4:1f2e308, Apr  6 2021, 13:40:21) [MSC v.1928 64 bit (AMD64)]"
  },
  "orig_nbformat": 4
 },
 "nbformat": 4,
 "nbformat_minor": 2
}
