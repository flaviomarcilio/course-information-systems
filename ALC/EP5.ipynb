{
  "cells": [
    {
      "cell_type": "markdown",
      "metadata": {
        "id": "settled-diversity"
      },
      "source": [
        "# Exercício de Programação 5\n",
        "\n",
        "<font color=\"red\">**Prazo de submissão: 23:55 do dia 23.08.2021** </font>\n",
        "\n",
        "2021.1 Álgebra Linear Computacional - DCC - UFMG\n",
        "\n",
        "Erickson - Fabricio\n",
        "\n",
        "Instruções:\n",
        "* Antes de submeter suas soluções, certifique-se de que tudo roda como esperado. Primeiro, **reinicie o kernel** no menu, selecione Kernel $\\rightarrow$ Restart e então execute **todas as células** (no menu, Cell $\\rightarrow$ Run All)\n",
        "* Apenas o arquivo .ipynb deve ser submetido. Ele não deve ser compactado.\n",
        "* Não deixe de preencher seu nome e número de matrícula na célula a seguir"
      ]
    },
    {
      "attachments": {},
      "cell_type": "markdown",
      "metadata": {
        "id": "rational-architecture"
      },
      "source": [
        "**Nome do aluno:** Flávio Marcilio de Oliveira"
      ]
    },
    {
      "cell_type": "markdown",
      "metadata": {
        "id": "committed-lecture"
      },
      "source": [
        "## Introdução\n",
        "Esse EP será dividido em 2 partes:\n",
        "\n",
        "1. Métodos iterativos para calcular autovalores e singular values.\n",
        "3. Métodos iterativos para solução de sistemas $Ax = b$ (Jacob e Seidel)\n",
        "\n",
        "Os conceitos cobrados aqui são discutidos nas aulas que abrangem o conteúdo de cada parte e elas devem ser a principal fonte de consulta para suas soluções."
      ]
    },
    {
      "cell_type": "code",
      "execution_count": 1,
      "metadata": {
        "id": "lesbian-intent"
      },
      "outputs": [],
      "source": [
        "import matplotlib.pyplot as plt\n",
        "import numpy as np"
      ]
    },
    {
      "cell_type": "markdown",
      "metadata": {
        "id": "computational-birth"
      },
      "source": [
        "### Questão 1 - Cálculo de autovalores e valores singulares\n"
      ]
    },
    {
      "cell_type": "markdown",
      "metadata": {
        "id": "itffvRYMizM_"
      },
      "source": [
        "Nessa primeira parte, vamos implementar o algoritmo QR para obtenção dos autovalores de uma matriz A, como foi descrito nas aulas.\n",
        "\n",
        "Abaixo temos a matriz A:"
      ]
    },
    {
      "cell_type": "code",
      "execution_count": 2,
      "metadata": {
        "colab": {
          "base_uri": "https://localhost:8080/"
        },
        "id": "4ckXBj9JhBlM",
        "outputId": "296266a1-afa1-40bd-b632-6d7e8cf800db"
      },
      "outputs": [
        {
          "name": "stdout",
          "output_type": "stream",
          "text": [
            "[[625 125  25   5   1]\n",
            " [256  64  16   4   1]\n",
            " [ 81  27   9   3   1]\n",
            " [ 16   8   4   2   1]\n",
            " [  1   1   1   1   1]]\n"
          ]
        }
      ],
      "source": [
        "# ATENÇÃO: Não editar esta célula\n",
        "A = np.vander(np.array([5, 4, 3, 2, 1]))\n",
        "print(A)"
      ]
    },
    {
      "attachments": {},
      "cell_type": "markdown",
      "metadata": {
        "id": "ASEwRvSftOgf"
      },
      "source": [
        "**1.1.1** Implemente o algoritmo QR, utilizando um **while loop** até satisfazer a condição: $A_i[1][0] < 10^{-10}$. Para tanto, lembre-se dos passos do algoritmo discutidos em aula:\n",
        "\n",
        "Inicializando:\n",
        "$$ A_0 = A $$\n",
        "\n",
        "Em cada loop:\n",
        "$$\n",
        "A_0 = Q_0R_0 \\\\\n",
        "A_1 = Q_0^T A_0 Q_0 \\\\\n",
        "A_0 \\leftarrow A_1 \\\\\n",
        "$$\n",
        "\n",
        "Para a decomposição QR, utilize o comando [`np.linalg.qr`](https://numpy.org/doc/stable/reference/generated/numpy.linalg.qr.html).\n",
        "\n",
        "Ao final do loop imprima os resultados:\n",
        "$$\n",
        "print(iter, A[1][0], A)\n",
        "$$\n",
        "\n",
        "iter = número de iterações necessárias para convergência."
      ]
    },
    {
      "cell_type": "code",
      "execution_count": 3,
      "metadata": {
        "id": "ppRu8_59ZtMk"
      },
      "outputs": [
        {
          "name": "stdout",
          "output_type": "stream",
          "text": [
            "iter: 8\n",
            "A[1][0]: 5.732002112419967e-11\n",
            "A:\n",
            " [[ 6.80926658e+02 -1.29785032e+02  4.80041164e+01 -3.29556298e+01\n",
            "   1.68972534e+01]\n",
            " [ 5.73200211e-11  1.76584862e+01 -3.93993217e+00  3.88794875e+00\n",
            "  -2.17967109e+00]\n",
            " [ 3.33982036e-19  2.81474339e-07  1.97306278e+00 -4.82611341e-01\n",
            "   4.47583094e-01]\n",
            " [ 2.44362336e-25  4.39438347e-13  8.16740274e-06  4.12353531e-01\n",
            "  -1.89839676e-01]\n",
            " [ 2.47951401e-35  1.02751450e-22  4.14388092e-15  4.76109443e-10\n",
            "   2.94391956e-02]]\n"
          ]
        }
      ],
      "source": [
        "# Insira seu código aqui\n",
        "iter = 0\n",
        "A0 = A\n",
        "while A0[1][0] >= 10**(-10):\n",
        "    Q0, R0 = np.linalg.qr(A0)\n",
        "    A1 = Q0.T @ A0 @ Q0\n",
        "    A0 = A1\n",
        "    iter += 1\n",
        "\n",
        "print('iter:', iter)\n",
        "print('A[1][0]:', A0[1][0])\n",
        "print('A:\\n', A0)"
      ]
    },
    {
      "attachments": {},
      "cell_type": "markdown",
      "metadata": {
        "id": "vy5pInNj3mY1"
      },
      "source": [
        "**1.1.2** Repita o exercício anterior, agora simplificando o algoritmo QR, considerando a relação:\n",
        "\n",
        "$$ Q_0^TA_0 = R_0 $$\n",
        "\n",
        "Ao final do loop imprima os resultados:\n",
        "\n",
        "$$ print(iter, R_0, A[1][0], A) $$\n",
        "\n",
        "iter = número de iterações necessárias para convergência."
      ]
    },
    {
      "cell_type": "code",
      "execution_count": 4,
      "metadata": {
        "id": "V4MG2RCiJGFP"
      },
      "outputs": [
        {
          "name": "stdout",
          "output_type": "stream",
          "text": [
            "iter: 8\n",
            "R_0:\n",
            " [[-6.80926658e+02  1.29785039e+02 -4.80047507e+01  3.29546793e+01\n",
            "   1.68972529e+01]\n",
            " [ 0.00000000e+00 -1.76584868e+01  3.94000666e+00 -3.88787075e+00\n",
            "  -2.17967102e+00]\n",
            " [ 0.00000000e+00  0.00000000e+00 -1.97307233e+00  4.82572268e-01\n",
            "   4.47583086e-01]\n",
            " [ 0.00000000e+00  0.00000000e+00  0.00000000e+00 -4.12353534e-01\n",
            "  -1.89839670e-01]\n",
            " [ 0.00000000e+00  0.00000000e+00  0.00000000e+00  0.00000000e+00\n",
            "   2.94391956e-02]]\n",
            "A[1][0]: 5.732002112419974e-11\n",
            "A:\n",
            " [[ 6.80926658e+02 -1.29785032e+02  4.80041164e+01 -3.29556298e+01\n",
            "   1.68972534e+01]\n",
            " [ 5.73200211e-11  1.76584862e+01 -3.93993217e+00  3.88794875e+00\n",
            "  -2.17967109e+00]\n",
            " [ 3.33982036e-19  2.81474339e-07  1.97306278e+00 -4.82611341e-01\n",
            "   4.47583094e-01]\n",
            " [ 2.44362336e-25  4.39438347e-13  8.16740274e-06  4.12353531e-01\n",
            "  -1.89839676e-01]\n",
            " [ 2.47951401e-35  1.02751450e-22  4.14388092e-15  4.76109443e-10\n",
            "   2.94391956e-02]]\n"
          ]
        }
      ],
      "source": [
        "# Insira seu código aqui\n",
        "iter = 0\n",
        "A0 = A\n",
        "while A0[1][0] >= 10**(-10):\n",
        "    Q0, R0 = np.linalg.qr(A0)\n",
        "    A1 = R0 @ Q0\n",
        "    A0 = A1\n",
        "    iter += 1\n",
        "\n",
        "print('iter:', iter)\n",
        "print('R_0:\\n', R0)\n",
        "print('A[1][0]:', A0[1][0])\n",
        "print('A:\\n', A0)"
      ]
    },
    {
      "cell_type": "markdown",
      "metadata": {
        "id": "p-8x7-bAla2h"
      },
      "source": [
        "O próximo passo agora é utilizar o algoritmo QR para encontrar valores singulares de matrizes não quadradas. Considere para este exercício as matrizes B e C abaixo:"
      ]
    },
    {
      "cell_type": "code",
      "execution_count": 5,
      "metadata": {
        "colab": {
          "base_uri": "https://localhost:8080/"
        },
        "id": "rXRV-y2T7FVv",
        "outputId": "5137a010-e195-42cc-e36b-60379c739032"
      },
      "outputs": [
        {
          "name": "stdout",
          "output_type": "stream",
          "text": [
            "B: \n",
            " [[4 5 6]\n",
            " [7 8 9]]\n",
            "C: \n",
            " [[ 1  2  3  4]\n",
            " [ 5  6  7  8]\n",
            " [10 10  7  2]]\n"
          ]
        }
      ],
      "source": [
        "B = np.array([[4, 5, 6], [7, 8, 9]])\n",
        "C = np.array([[1, 2, 3, 4], [5, 6, 7, 8], [10, 10, 7, 2]])\n",
        "print('B:', '\\n', B)\n",
        "print('C:', '\\n', C)"
      ]
    },
    {
      "cell_type": "markdown",
      "metadata": {
        "id": "h_ZBCsZLnmXk"
      },
      "source": [
        "**1.2.1** Para resolver essa questão, lembre-se que para qualquer matriz não quadrada B:\n",
        "\n",
        "1. Existe uma decomposição $B = U \\Sigma V^T$ \n",
        "\n",
        "1. $B^T B$ é quadrada, simétrica e admite decomposição espectral da forma: $B^T B = Q \\Lambda Q^T$\n",
        "\n",
        "3. Substituindo 1 em 2, temos: $B^T B = V \\Sigma^2 V^T$\n",
        "\n",
        "A nível de algoritmo, crie uma função generalista que retorna os valores singulares de qualquer matriz real, não quadrada seguindo os passos:\n",
        "\n",
        "1. Calcule $S =B^T B$\n",
        "2. Use o algoritmo QR para obter autovalores de $S$ (loop com 10 iterações).\n",
        "3. Tire a raiz quadrada dos autovalores de S para obter os valores singulares de B.\n",
        "4. Retorne um vetor **apenas com os valores singulares não nulos** (dica: [`np.diagonal`](https://numpy.org/doc/stable/reference/generated/numpy.linalg.qr.html)).\n",
        "\n",
        "Imprima a saída da sua função para B e C."
      ]
    },
    {
      "cell_type": "code",
      "execution_count": 11,
      "metadata": {
        "id": "Xba2RhWLlZuq"
      },
      "outputs": [
        {
          "name": "stdout",
          "output_type": "stream",
          "text": [
            "singB: [16.45601991  0.44655204]\n",
            "singC: [20.34572265  6.55272059  0.33678326]\n"
          ]
        }
      ],
      "source": [
        "# Insira seu código aqui\n",
        "def singValue(M):\n",
        "    S = M.T @ M\n",
        "    for i in range(10):\n",
        "        [Q, R] = np.linalg.qr(S)\n",
        "        S = R @ Q\n",
        "    valores_singulares = np.sqrt(S.diagonal())\n",
        "    index = np.argwhere(valores_singulares < 10**(-6))\n",
        "    y = np.delete(valores_singulares, index)\n",
        "    return y\n",
        "\n",
        "singB = singValue(B)\n",
        "print('singB:', singB)\n",
        "singC = singValue(C)\n",
        "print('singC:', singC)"
      ]
    },
    {
      "cell_type": "markdown",
      "metadata": {
        "id": "pV7TJX-Qn43E"
      },
      "source": [
        "### Questão 2 -Gauss-Jacobi e Gauss Seidel\n",
        "\n",
        "Nesta seção, vamos implementar os algoritmos de Gauss-Jacobi e Gauss Seidel para resolver o sistema $Ax = b$, tal como foi descrito nas aulas.\n",
        "\n",
        "Dica 1:\n",
        "\n",
        "Passos iterativos do método Gauss-Jacobi para uma matriz 3x3:\n",
        "\n",
        "Dado um valor inicial para x: $\\vec{x}^{k = 0} = [1, 1, 1]$\n",
        "\n",
        "Realize a iteração:\n",
        "\n",
        "$x_1^{k+1} = (b_1 - a_{12} x_2^{(k)} - a_{13}x_3^{(k)})/a_{11}$\n",
        "\n",
        "$x_2^{k+1} = (b_2 - a_{21} x_1^{(k)} - a_{23}x_3^{(k)})/a_{22}$\n",
        "\n",
        "$x_3^{k+1} = (b_3 - a_{31} x_1^{(k)} - a_{32}x_2^{(k)})/a_{33}$\n",
        "\n",
        "Dica 2:\n",
        "\n",
        "Passos iterativos do método Gauss-Seidel para uma matriz 3x3:\n",
        "\n",
        "Dado um valor inicial para x: $\\vec{x}^{k = 0} = [1, 1, 1]$\n",
        "\n",
        "Realize a iteração:\n",
        "\n",
        "$x_1^{k+1} = (b_1 - a_{12} x_2^{(k)} - a_{13}x_3^{(k)})/a_{11}$\n",
        "\n",
        "$x_2^{k+1} = (b_2 - a_{21} x_1^{(k+1)} - a_{23}x_3^{(k)})/a_{22}$\n",
        "\n",
        "$x_3^{k+1} = (b_3 - a_{31} x_1^{(k+1)} - a_{32}x_2^{(k+1)})/a_{33}$\n",
        "\n",
        "Dica 3:\n",
        "\n",
        "Ao fazer o exercício no Colab tive problemas de arredondamento ao criar o vetor x_iter com o comando np.array. Caso tenham este problema, basta declarar x_iter como uma lista."
      ]
    },
    {
      "cell_type": "markdown",
      "metadata": {
        "id": "N3uhDT9a2kch"
      },
      "source": [
        "**2.1** Encontre a solução do sistema $Ax = b$, pelo método de Gauss-Jacobi realizando a iteração do método 5 vezes. A cada iteração, realize o print da sua estimativa para x. Neste exercício, considere a primeira estimativa de $x = [1, 1, 1]$, com A e b definidos abaixo.\n",
        "\n",
        "Após rodar o algoritmo, faça um print da sua solução, comparando com a saída do método numpy: np.linalg.solve(A,b)"
      ]
    },
    {
      "cell_type": "code",
      "execution_count": 7,
      "metadata": {
        "colab": {
          "base_uri": "https://localhost:8080/"
        },
        "id": "jeu9nVWeudje",
        "outputId": "816c1e09-c50b-46d5-c1c7-618b1f8127b8"
      },
      "outputs": [
        {
          "name": "stdout",
          "output_type": "stream",
          "text": [
            "A: \n",
            " [[27  6 -2]\n",
            " [ 6 15  2]\n",
            " [ 1  1 54]]\n",
            "b: \n",
            " [ 85  72 110]\n"
          ]
        }
      ],
      "source": [
        "# ATENÇÃO: Não editar esta célula\n",
        "A = np.array([[27, 6, -2], [6, 15, 2], [1, 1, 54]])\n",
        "b = np.array([85, 72, 110])\n",
        "print('A: \\n', A)\n",
        "print('b: \\n', b)"
      ]
    },
    {
      "cell_type": "code",
      "execution_count": 8,
      "metadata": {
        "id": "BxN9Xf3gI__S"
      },
      "outputs": [
        {
          "name": "stdout",
          "output_type": "stream",
          "text": [
            "iter: 1 x: [3.         4.26666667 2.        ]\n",
            "iter: 2 x: [2.34814815 3.33333333 1.90246914]\n",
            "iter: 3 x: [2.54833105 3.60707819 1.93182442]\n",
            "iter: 4 x: [2.48967332 3.52309099 1.92304798]\n",
            "iter: 5 x: [2.50768704 3.54772427 1.92568955]\n",
            "Numpy: [2.50366797 3.54185509 1.92508291]\n"
          ]
        }
      ],
      "source": [
        "# Insira seu código aqui\n",
        "x_old = np.array([1.0, 1.0, 1.0])\n",
        "x_new = x_old.copy()\n",
        "for i in range(5):\n",
        "    x_new[0] = (85 - 6 * x_old[1] + 2 * x_old[2]) / 27\n",
        "    x_new[1] = (72 - 6 * x_old[0] - 2 * x_old[2]) / 15\n",
        "    x_new[2] = (110 - 1 * x_old[0] - 1 * x_old[1]) / 54\n",
        "    print('iter:',i+1, 'x:', x_new)\n",
        "    x_old = x_new.copy()\n",
        "\n",
        "print('Numpy:', np.linalg.solve(A, b))"
      ]
    },
    {
      "cell_type": "markdown",
      "metadata": {
        "id": "OE0zIPudHtKJ"
      },
      "source": [
        "**2.2** Repita o exercício anterior, agora pelo método de Gauss-Seidel"
      ]
    },
    {
      "cell_type": "code",
      "execution_count": 9,
      "metadata": {
        "id": "hyypho6iJDO9"
      },
      "outputs": [
        {
          "name": "stdout",
          "output_type": "stream",
          "text": [
            "iter: 1 x: [3.         3.46666667 1.91728395]\n",
            "iter: 2 x: [2.51979881 3.53644262 1.92488442]\n",
            "iter: 3 x: [2.50485604 3.54140633 1.92506922]\n",
            "iter: 4 x: [2.50376668 3.54181743 1.92508178]\n",
            "iter: 5 x: [2.50367626 3.54185193 1.92508281]\n",
            "Numpy: [2.50366797 3.54185509 1.92508291]\n"
          ]
        }
      ],
      "source": [
        "# Insira seu código aqui\n",
        "x_iter = np.array([1.0, 1.0, 1.0])\n",
        "for i in range(5):\n",
        "    x_iter[0] = (85 - 6 * x_iter[1] + 2 * x_iter[2]) / 27\n",
        "    x_iter[1] = (72 - 6 * x_iter[0] - 2 * x_iter[2]) / 15\n",
        "    x_iter[2] = (110 - 1 * x_iter[0] - 1 * x_iter[1]) / 54\n",
        "    print('iter:',i+1, 'x:', x_iter)\n",
        "\n",
        "print('Numpy:', np.linalg.solve(A, b))"
      ]
    }
  ],
  "metadata": {
    "colab": {
      "collapsed_sections": [],
      "name": "EP5.ipynb",
      "provenance": []
    },
    "interpreter": {
      "hash": "63fd5069d213b44bf678585dea6b12cceca9941eaf7f819626cde1f2670de90d"
    },
    "kernelspec": {
      "display_name": "Python 3.9.4 64-bit",
      "name": "python3"
    },
    "language_info": {
      "codemirror_mode": {
        "name": "ipython",
        "version": 3
      },
      "file_extension": ".py",
      "mimetype": "text/x-python",
      "name": "python",
      "nbconvert_exporter": "python",
      "pygments_lexer": "ipython3",
      "version": "3.9.4"
    }
  },
  "nbformat": 4,
  "nbformat_minor": 5
}
