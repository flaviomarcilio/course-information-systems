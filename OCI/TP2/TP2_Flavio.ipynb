{
  "cells": [
    {
      "cell_type": "markdown",
      "metadata": {
        "id": "1lFLQxyzFW-Y"
      },
      "source": [
        "# Instalando extensão Verilog"
      ]
    },
    {
      "cell_type": "code",
      "execution_count": 1,
      "metadata": {
        "colab": {
          "base_uri": "https://localhost:8080/"
        },
        "id": "r1pzW9K0kJs8",
        "outputId": "61612adc-c5d5-4245-c682-5bedc01c8192"
      },
      "outputs": [
        {
          "output_type": "stream",
          "name": "stdout",
          "text": [
            "Looking in indexes: https://pypi.org/simple, https://us-python.pkg.dev/colab-wheels/public/simple/\n",
            "Collecting git+https://github.com/lesc-ufv/cad4u\n",
            "  Cloning https://github.com/lesc-ufv/cad4u to /tmp/pip-req-build-ksnhzo1r\n",
            "  Running command git clone -q https://github.com/lesc-ufv/cad4u /tmp/pip-req-build-ksnhzo1r\n",
            "fatal: destination path 'cad4u' already exists and is not an empty directory.\n"
          ]
        }
      ],
      "source": [
        "!pip install git+https://github.com/lesc-ufv/cad4u\n",
        "!git clone https://github.com/lesc-ufv/cad4u\n",
        "%load_ext plugin"
      ]
    },
    {
      "cell_type": "markdown",
      "metadata": {
        "id": "MX6VpxzhNM2R"
      },
      "source": [
        "# Instalando riscV-assembler"
      ]
    },
    {
      "cell_type": "code",
      "execution_count": 2,
      "metadata": {
        "colab": {
          "base_uri": "https://localhost:8080/"
        },
        "id": "KzCf7iL-BOKD",
        "outputId": "c24850cd-5db7-47a2-9ce8-e7785da2b129"
      },
      "outputs": [
        {
          "output_type": "stream",
          "name": "stdout",
          "text": [
            "Looking in indexes: https://pypi.org/simple, https://us-python.pkg.dev/colab-wheels/public/simple/\n",
            "Requirement already satisfied: riscv-assembler in /usr/local/lib/python3.7/dist-packages (1.0.16)\n",
            "Requirement already satisfied: bitstring==3.1.7 in /usr/local/lib/python3.7/dist-packages (from riscv-assembler) (3.1.7)\n"
          ]
        }
      ],
      "source": [
        "!pip install riscv-assembler"
      ]
    },
    {
      "cell_type": "markdown",
      "metadata": {
        "id": "a4JbAbcZSh6f"
      },
      "source": [
        "# Montador RiscV\n",
        "Executando códigos para ser reaproveitados abaixo"
      ]
    },
    {
      "cell_type": "code",
      "execution_count": 3,
      "metadata": {
        "colab": {
          "base_uri": "https://localhost:8080/"
        },
        "id": "8S3VlslMSl6W",
        "outputId": "198430e0-f8ea-4ede-dd93-cce104d6c340"
      },
      "outputs": [
        {
          "output_type": "stream",
          "name": "stdout",
          "text": [
            "Overwriting simple.s\n"
          ]
        }
      ],
      "source": [
        "%%writefile simple.s\n",
        "add x1,x1,x1"
      ]
    },
    {
      "cell_type": "code",
      "execution_count": 4,
      "metadata": {
        "id": "lGIEFpFdSf34"
      },
      "outputs": [],
      "source": [
        "from riscv_assembler.convert import AssemblyConverter\n",
        "!rm -f -r simple/*\n",
        "def assemble():\n",
        "  cnv = AssemblyConverter(output_type = \"t\") #just text\n",
        "  cnv.convert(\"simple.s\")\n",
        "  # Using readlines()\n",
        "  file1 = open('simple/txt/simple.txt', 'r')\n",
        "  Lines = file1.readlines()\n",
        "  file1 = open('im_data.txt', 'w')\n",
        "\n",
        "\n",
        "  for line in Lines:\n",
        "    decimal_representation = int(line, 2)\n",
        "    hexadecimal_string = hex(decimal_representation)\n",
        "    file1.write(hexadecimal_string[2:]+'\\n')\n",
        "\n",
        "  file1.close()"
      ]
    },
    {
      "cell_type": "markdown",
      "metadata": {
        "id": "9vgUvQGX_t8s"
      },
      "source": [
        "# Risc-V"
      ]
    },
    {
      "cell_type": "markdown",
      "metadata": {
        "id": "4BjVE2So_49i"
      },
      "source": [
        "# Arquivos de registradores"
      ]
    },
    {
      "cell_type": "code",
      "execution_count": 5,
      "metadata": {
        "colab": {
          "base_uri": "https://localhost:8080/"
        },
        "id": "ldVPKR_F_4Tf",
        "outputId": "8da6c5f6-6e36-4223-c6b2-a0cde8b27f53"
      },
      "outputs": [
        {
          "output_type": "stream",
          "name": "stdout",
          "text": [
            "Overwriting rm_data.txt\n"
          ]
        }
      ],
      "source": [
        "%%writefile rm_data.txt\n",
        "0\n",
        "01\n",
        "02\n",
        "03\n",
        "04\n",
        "05\n",
        "06\n",
        "07\n",
        "08\n",
        "09\n",
        "0A\n",
        "0B\n",
        "0C\n",
        "0D\n",
        "0E\n",
        "0F\n",
        "10\n",
        "11\n",
        "12\n",
        "13"
      ]
    },
    {
      "cell_type": "markdown",
      "metadata": {
        "id": "byD55wbEAA2d"
      },
      "source": [
        "## Memória de dados"
      ]
    },
    {
      "cell_type": "code",
      "execution_count": 6,
      "metadata": {
        "colab": {
          "base_uri": "https://localhost:8080/"
        },
        "id": "eixygEZW_-wd",
        "outputId": "840d1d0c-a0d0-4c3c-fc19-b1195f73d7c0"
      },
      "outputs": [
        {
          "output_type": "stream",
          "name": "stdout",
          "text": [
            "Overwriting dm_data.txt\n"
          ]
        }
      ],
      "source": [
        "%%writefile dm_data.txt\n",
        "0\n",
        "1\n",
        "2\n",
        "03\n",
        "04\n",
        "05\n",
        "06\n",
        "07\n",
        "08\n",
        "09\n",
        "10\n",
        "11\n",
        "12\n",
        "13\n",
        "14\n",
        "15\n",
        "16\n",
        "17\n",
        "18\n",
        "19"
      ]
    },
    {
      "cell_type": "markdown",
      "metadata": {
        "id": "vWfvhIuOAKW3"
      },
      "source": [
        "## Memória de instruções"
      ]
    },
    {
      "cell_type": "markdown",
      "metadata": {
        "id": "IatP0gukptaV"
      },
      "source": [
        "#### Exemplo de programa"
      ]
    },
    {
      "cell_type": "code",
      "execution_count": 7,
      "metadata": {
        "colab": {
          "base_uri": "https://localhost:8080/"
        },
        "id": "GxVgmuNVBVuZ",
        "outputId": "286a7403-7283-42f1-96a0-16de68b64b8e"
      },
      "outputs": [
        {
          "output_type": "stream",
          "name": "stdout",
          "text": [
            "Overwriting simple.s\n"
          ]
        }
      ],
      "source": [
        "%%writefile simple.s\n",
        "j x1, exit\n",
        "add x1,x2,x3\n",
        "add x4,x5,x6\n",
        "add x7,x8,x9\n",
        "sub x10,x11,x12\n",
        "add x1,x1,x1\n",
        "exit:\n",
        "add x2, x3, x4"
      ]
    },
    {
      "cell_type": "code",
      "execution_count": 8,
      "metadata": {
        "colab": {
          "base_uri": "https://localhost:8080/"
        },
        "id": "pzxo2xQqBan8",
        "outputId": "78500a53-8f8e-47f1-db0e-a4c2e8118020"
      },
      "outputs": [
        {
          "output_type": "stream",
          "name": "stdout",
          "text": [
            "------Writing to Text file------\n",
            "Output file: simple.txt\n",
            "Number of instructions: 7\n"
          ]
        }
      ],
      "source": [
        "from riscv_assembler.convert import AssemblyConverter\n",
        "!rm -f -r simple/*\n",
        "cnv = AssemblyConverter(output_type = \"t\") #just text\n",
        "cnv.convert(\"simple.s\")\n",
        "# Using readlines()\n",
        "file1 = open('simple/txt/simple.txt', 'r')\n",
        "Lines = file1.readlines()\n",
        "file1 = open('im_data.txt', 'w')\n",
        "\n",
        "\n",
        "for line in Lines:\n",
        "   decimal_representation = int(line, 2)\n",
        "   hexadecimal_string = hex(decimal_representation)\n",
        "   file1.write(hexadecimal_string[2:]+'\\n')\n",
        "\n",
        "file1.close()"
      ]
    },
    {
      "cell_type": "code",
      "execution_count": 9,
      "metadata": {
        "colab": {
          "base_uri": "https://localhost:8080/"
        },
        "id": "jYRbKqEaBbPd",
        "outputId": "f82ff2f0-161c-45bb-83f4-b47f7ff5e6ef"
      },
      "outputs": [
        {
          "output_type": "stream",
          "name": "stdout",
          "text": [
            "10000000001001111011000001101111\n",
            "00000000001100010000000010110011\n",
            "00000000011000101000001000110011\n",
            "00000000100101000000001110110011\n",
            "01000000110001011000010100110011\n",
            "00000000000100001000000010110011\n",
            "00000000010000011000000100110011\n"
          ]
        }
      ],
      "source": [
        "!cat simple/txt/simple.txt"
      ]
    },
    {
      "cell_type": "code",
      "execution_count": 10,
      "metadata": {
        "colab": {
          "base_uri": "https://localhost:8080/"
        },
        "id": "pwUetoj6DO5b",
        "outputId": "5fa5dadf-55b3-41ec-d492-94b9e0fa8f5c"
      },
      "outputs": [
        {
          "output_type": "stream",
          "name": "stdout",
          "text": [
            "8027b06f\n",
            "3100b3\n",
            "628233\n",
            "9403b3\n",
            "40c58533\n",
            "1080b3\n",
            "418133\n"
          ]
        }
      ],
      "source": [
        "!cat im_data.txt"
      ]
    },
    {
      "cell_type": "markdown",
      "metadata": {
        "id": "UBzRoqhVDn7V"
      },
      "source": [
        "### Ou digite suas instruções RiscV diretamente, em modo hexadecimal"
      ]
    },
    {
      "cell_type": "code",
      "execution_count": 11,
      "metadata": {
        "colab": {
          "base_uri": "https://localhost:8080/"
        },
        "id": "Mh9eRzlTAIjP",
        "outputId": "32cc0e6f-6fce-4750-ee5f-3246a82a4a72"
      },
      "outputs": [
        {
          "output_type": "stream",
          "name": "stdout",
          "text": [
            "Overwriting im_data.txt\n"
          ]
        }
      ],
      "source": [
        "%%writefile im_data.txt\n",
        "20090001\n",
        "01294820\n",
        "01e9502a\n",
        "1140fffd\n",
        "2129ffff\n",
        "2129ffff\n",
        "2129ffff"
      ]
    },
    {
      "cell_type": "markdown",
      "metadata": {
        "id": "bkLdv6lJEBRi"
      },
      "source": [
        "# Código dos 5 estágios do RiscV"
      ]
    },
    {
      "cell_type": "markdown",
      "metadata": {
        "id": "m7prYdSHEIB3"
      },
      "source": [
        "## Arquivo verilog registrador genérico"
      ]
    },
    {
      "cell_type": "code",
      "execution_count": 12,
      "metadata": {
        "colab": {
          "base_uri": "https://localhost:8080/"
        },
        "id": "kJMKqwdiEHLF",
        "outputId": "4d093a3a-0a6f-4af1-a2f5-481a3609508b"
      },
      "outputs": [
        {
          "output_type": "stream",
          "name": "stdout",
          "text": [
            "Overwriting regr.v\n"
          ]
        }
      ],
      "source": [
        "%%writefile regr.v\n",
        "module regr (\tinput clk,input clear,input hold,\n",
        "\tinput wire [N-1:0] in,\n",
        "\toutput reg [N-1:0] out);\n",
        "\n",
        "\tparameter N = 1;\n",
        "\n",
        "\talways @(posedge clk) begin\n",
        "\t\tif (clear)\n",
        "\t\t\tout <= {N{1'b0}};\n",
        "\t\telse if (hold)\n",
        "\t\t\tout <= out;\n",
        "\t\telse\n",
        "\t\t\tout <= in;\n",
        "\tend\n",
        "endmodule\n"
      ]
    },
    {
      "cell_type": "markdown",
      "metadata": {
        "id": "IV58BdsjEW4g"
      },
      "source": [
        "## Arquivo verilog de registrador e memória de instruções"
      ]
    },
    {
      "cell_type": "code",
      "execution_count": 13,
      "metadata": {
        "colab": {
          "base_uri": "https://localhost:8080/"
        },
        "id": "RZfR7Q5NETZf",
        "outputId": "8dcd5585-1c77-4326-8ea8-d1733b872381"
      },
      "outputs": [
        {
          "output_type": "stream",
          "name": "stdout",
          "text": [
            "Overwriting im_reg.v\n"
          ]
        }
      ],
      "source": [
        "%%writefile im_reg.v\n",
        "module im(input wire\t\t\tclk,input wire \t[31:0] \taddr,output wire [31:0] \tdata);\n",
        "\tparameter NMEM = 128;   // Number of memory entries,\n",
        "\t\t\t\t\t\t\t// not the same as the memory size\n",
        "\tparameter IM_DATA = \"im_data.txt\";  // file to read data from\n",
        "\treg [31:0] mem [0:127];  // 32-bit memory with 128 entries\n",
        "\tinitial begin\n",
        "\t\t$readmemh(IM_DATA, mem, 0, NMEM-1);\n",
        "\tend\n",
        "\tassign data = mem[addr[8:2]][31:0];\n",
        "endmodule\n",
        "\n",
        "module regm(\t\tinput wire\t\t\tclk,input wire  [4:0]\tread1, read2,\n",
        "\t\toutput wire [31:0]\tdata1, data2,input wire\t\t\tregwrite, input wire\t[4:0]\twrreg,input wire\t[31:0]\twrdata);\n",
        "\n",
        "\tparameter NMEM = 20;   // Number of memory entries,\n",
        "\t\t\t\t\t\t\t// not the same as the memory size\n",
        "\tparameter RM_DATA = \"rm_data.txt\";  // file to read data from\n",
        "\n",
        "\treg [31:0] mem [0:31];  // 32-bit memory with 32 entries\n",
        "\n",
        "\tinitial begin\n",
        "\t\t$readmemh(RM_DATA, mem, 0, NMEM-1);\n",
        "\tend\n",
        "\treg [31:0] _data1, _data2;\n",
        "\talways @(*) begin\n",
        "\t\tif (read1 == 5'd0)\n",
        "\t\t\t_data1 = 32'd0;\n",
        "\t\telse if ((read1 == wrreg) && regwrite)\n",
        "\t\t\t_data1 = wrdata;\n",
        "\t\telse\n",
        "\t\t\t_data1 = mem[read1][31:0];\n",
        "\tend\n",
        "\n",
        "\talways @(*) begin\n",
        "\t\tif (read2 == 5'd0)\n",
        "\t\t\t_data2 = 32'd0;\n",
        "\t\telse if ((read2 == wrreg) && regwrite)\n",
        "\t\t\t_data2 = wrdata;\n",
        "\t\telse\n",
        "\t\t\t_data2 = mem[read2][31:0];\n",
        "\tend\n",
        "\n",
        "\tassign data1 = _data1;\n",
        "\tassign data2 = _data2;\n",
        "\n",
        "\talways @(posedge clk) begin\n",
        "\t\tif (regwrite && wrreg != 5'd0) begin\n",
        "\t\t\t// write a non $zero register\n",
        "\t\t\tmem[wrreg] <= wrdata;\n",
        "\t\tend\n",
        "\tend\n",
        "endmodule\n"
      ]
    },
    {
      "cell_type": "markdown",
      "metadata": {
        "id": "ElXz175AFYrE"
      },
      "source": [
        "## Arquivo verilog memória de dados"
      ]
    },
    {
      "cell_type": "code",
      "execution_count": 14,
      "metadata": {
        "colab": {
          "base_uri": "https://localhost:8080/"
        },
        "id": "IMxGSxB3FYCT",
        "outputId": "56e22db3-3234-45d6-a55c-b3eed2354724"
      },
      "outputs": [
        {
          "output_type": "stream",
          "name": "stdout",
          "text": [
            "Overwriting datam.v\n"
          ]
        }
      ],
      "source": [
        "%%writefile datam.v\n",
        "module dm(\n",
        "\t\tinput wire\t\t\tclk,\n",
        "\t\tinput wire\t[6:0]\taddr,\n",
        "\t\tinput wire\t\t\trd, wr,\n",
        "\t\tinput wire \t[31:0]\twdata,\n",
        "\t\toutput wire\t[31:0]\trdata);\n",
        "\tparameter NMEM = 20;   // Number of memory entries,\n",
        "\t\t\t\t\t\t\t// not the same as the memory size\n",
        "\tparameter RM_DATA = \"dm_data.txt\";  // file to read data from\n",
        "\n",
        "\treg [31:0] mem [0:127];  // 32-bit memory with 128 entries\n",
        "\n",
        "        initial begin\n",
        "\t\t$readmemh(RM_DATA, mem, 0, NMEM-1);\n",
        "\tend\n",
        "\t\t\n",
        "\n",
        "\talways @(posedge clk) begin\n",
        "\t\tif (wr) begin\n",
        "\t\t\tmem[addr] <= wdata;\n",
        "\t\tend\n",
        "\tend\n",
        "\n",
        "\tassign rdata = wr ? wdata : mem[addr];\n",
        "\t// During a write, avoid the one cycle delay by reading from 'wdata'\n",
        "\n",
        "endmodule\n",
        "\n",
        "\n"
      ]
    },
    {
      "cell_type": "markdown",
      "metadata": {
        "id": "n-kjYcXLE2-X"
      },
      "source": [
        "## Alu e controle da Alu"
      ]
    },
    {
      "cell_type": "code",
      "execution_count": 15,
      "metadata": {
        "colab": {
          "base_uri": "https://localhost:8080/"
        },
        "id": "rLVvqy4FE2Bl",
        "outputId": "beccec67-c056-48d5-d1aa-ad14fc84e75f"
      },
      "outputs": [
        {
          "output_type": "stream",
          "name": "stdout",
          "text": [
            "Overwriting alu.v\n"
          ]
        }
      ],
      "source": [
        "%%writefile alu.v\n",
        "module alu(\n",
        "\t\tinput\t\t\t\t[3:0]\t\tctl,\n",
        "\t\tinput\t\t\t\t[31:0]\ta, b,\n",
        "\t\toutput reg\t[31:0]\tout,\n",
        "\t\toutput\t\t\t\t\t\t\tzero);\n",
        "\n",
        "\twire [31:0] sub_ab;\n",
        "\twire [31:0] add_ab;\n",
        "\twire \t\t\t\toflow_add;\n",
        "\twire \t\t\t\toflow_sub;\n",
        "\twire \t\t\t\toflow;\n",
        "\twire \t\t\t\tslt;\n",
        "\n",
        "\tassign zero = (0 == out);\n",
        "\n",
        "\tassign sub_ab = a - b;\n",
        "\tassign add_ab = a + b;\n",
        "\tassign oflow_add = (a[31] == b[31] && add_ab[31] != a[31]) ? 1 : 0;\n",
        "\tassign oflow_sub = (a[31] == b[31] && sub_ab[31] != a[31]) ? 1 : 0;\n",
        "\tassign oflow = (ctl == 4'b0010) ? oflow_add : oflow_sub;\n",
        "\t// set if less than, 2s compliment 32-bit numbers\n",
        "\tassign slt = oflow_sub ? ~(a[31]) : a[31];\n",
        "\talways @(*) begin\n",
        "\t\tcase (ctl)\n",
        "\t\t\t4'b0000: out <= a & b;\t\t\t/* and, andi */\n",
        "\t\t\t4'b0001: out <= a | b;\t\t\t/* or, ori */\n",
        "\t\t\t4'b0010: out <= add_ab;\t\t\t/* add, addi */\n",
        "\t\t\t4'b0011: out <= a << b;\t\t\t/* sll, slli */\n",
        "\t\t\t4'b0110: out <= sub_ab;\t\t\t/* sub */\n",
        "\t\t\t4'b0111: out <= a ^ b;\t\t\t/* xor, xori */\n",
        "\t\t\t// Problema 2 - Inclusão necessária para implementar a operação srli\n",
        "\t\t\t4'b1000: out <= a >> b;\t\t\t/* srl, srli */\n",
        "\t\t\t4'b1010: out <= a >>> b;\t\t/* sra, srai */\n",
        "\t\t\tdefault: out <= {32{1'bx}};\n",
        "\t\tendcase\n",
        "\tend\n",
        "\n",
        "endmodule\n",
        "\n",
        "\n",
        "module alu_control(\n",
        "\t\tinput wire [3:0] funct,\n",
        "\t\tinput wire [1:0] aluop,\n",
        "\t\toutput reg [3:0] aluctl);\n",
        "\n",
        "\treg [3:0] _funct;\n",
        "\n",
        "\talways @(*) begin\n",
        "\t\tcase(funct[3:0])\n",
        "\t\t\t4'b0000:  _funct = 4'b0010;\t\t/* add, addi */\n",
        "\t\t\t4'b1000:  _funct = 4'b0110;\t\t/* sub */\n",
        "\t\t\t// Problema 1 - Alterações necessárias para implementar andi\n",
        "\t\t\t4'b0111:  _funct = 4'b0000;\t\t/* and, andi */\n",
        "\t\t\t4'b0110:  _funct = 4'b0001;\t\t/* or, ori */\n",
        "\t\t\t4'b0001: \t_funct = 4'b0011;\t\t/* sll, slli */\n",
        "\t\t\t4'b0010:  _funct = 4'b0100;\t\t/* slt, slti */\n",
        "\t\t\t4'b0011:  _funct = 4'b0101;\t\t/* sltu, sltui */\n",
        "\t\t\t4'b0100:\t_funct = 4'b0111;\t\t/* xor, xori */\n",
        "\t\t\t// Problema 2 - Alterações necessárias para implementar srli\n",
        "\t\t\t4'b0101:  _funct = 4'b1000;\t\t/* srl, srli */\n",
        "\t\t\t4'b1101:  _funct = 4'b1010;\t  /* sra, srai */\n",
        "\t\t\tdefault: _funct = 4'bxxxx;//al\n",
        "\t\tendcase\n",
        "\tend\n",
        "\n",
        "\talways @(*) begin\n",
        "\t\tcase(aluop)\n",
        "\t\t\t2'b00: aluctl = 4'b0010;\t\t/* add */\n",
        "\t\t\t2'b01: aluctl = 4'b0110;\n",
        "\t\t\t2'b10: aluctl = _funct;\t\t\t/* add, sub, and, or, sll, slt, sltu, xor, srl, sra */\n",
        "\t\t\t// Problemas 1 e 2 - Alteração para realizar operações com imediato\n",
        "\t\t\t2'b11: aluctl = _funct;\t\t\t/* addi, andi, ori, slli, slti, sltui, xori, srli, srai */\n",
        "\t\t\tdefault: aluctl = 0;\n",
        "\t\tendcase\n",
        "\tend\n",
        "\n",
        "endmodule\n"
      ]
    },
    {
      "cell_type": "markdown",
      "metadata": {
        "id": "YXqDKayiFLke"
      },
      "source": [
        "## Unidade de controle"
      ]
    },
    {
      "cell_type": "code",
      "execution_count": 16,
      "metadata": {
        "colab": {
          "base_uri": "https://localhost:8080/"
        },
        "id": "_pRDyV5AFKXe",
        "outputId": "9c1604c3-889e-4583-d9c8-8df33caf9203"
      },
      "outputs": [
        {
          "output_type": "stream",
          "name": "stdout",
          "text": [
            "Overwriting control.v\n"
          ]
        }
      ],
      "source": [
        "%%writefile control.v\n",
        "module control(\n",
        "\t\tinput  wire\t[6:0]\topcode,\n",
        "\t\toutput reg\t\t\t\tbranch_eq, branch_ne, branch_lt,\n",
        "\t\toutput reg [1:0]\taluop,\n",
        "\t\toutput reg\t\t\t\tmemread, memwrite, memtoreg,\n",
        "\t\toutput reg\t\t\t\tregdst, regwrite, alusrc,\n",
        "\t\toutput reg\t\t\t\tjump,\n",
        "    output reg [31:0] ImmGen,\n",
        "    input [31:0] inst);\n",
        "    wire[2:0] f3 = inst[14:12]; //funct3 para diferenciar as instruções de branch\n",
        "\talways @(*) begin\n",
        "\t\t/* defaults */\n",
        "\t\taluop[1:0]\t<= 2'b10;\n",
        "\t\talusrc\t\t\t<= 1'b0;\n",
        "\t\tbranch_eq\t\t<= 1'b0;\n",
        "\t\tbranch_ne\t\t<= 1'b0;\n",
        "\t\tmemread\t\t\t<= 1'b0;\n",
        "\t\tmemtoreg\t\t<= 1'b0;\n",
        "\t\tmemwrite\t\t<= 1'b0;\n",
        "\t\tregdst\t\t\t<= 1'b1;\n",
        "\t\tregwrite\t\t<= 1'b1;\n",
        "\t\tjump\t\t\t\t<= 1'b0;\n",
        "\n",
        "\t\tcase (opcode)\n",
        "     7'b0000011: begin /* L-Type: lb, lh, lw, lbu, lhu */\n",
        "        \talusrc   \t\t<= 1'b1;\n",
        "          aluop[1:0]\t<= 2'b00;\n",
        "        \tmemtoreg \t\t<= 1'b1;                 \n",
        "        \tregwrite \t\t<= 1'b1;    \n",
        "        \tmemread  \t\t<= 1'b1;\n",
        "        \tImmGen   \t\t<= {{20{inst[31]}},inst[31:20]};\n",
        "      \tend\n",
        "\t\t\t7'b0010011: begin\t/* I-Type: addi, slli, slti, sltiu, xori, srli, srai, ori, andi */\n",
        "\t\t\t\t\t// Problemas 1 e 2 - Alteração necessária para permitir ALUOp = 11\n",
        "\t\t\t\t\taluop[1:0]  <= 2'b11;\n",
        "\t\t\t\t\talusrc \t\t\t<= 1'b1;\n",
        "\t\t\t\t\tImmGen\t\t\t<= {{20{inst[31]}},inst[31:20]};\n",
        "\t\t\t\tend\n",
        "      7'b1100011: begin /* B-Type: beq, bne, blt, bge, bltu, bgeu */\n",
        "\t\t\t\t\taluop[1:0] \t<= 2'b01;\n",
        "    \t    ImmGen   \t\t<= {{19{inst[31]}},inst[31],inst[7],inst[30:25],inst[11:8],1'b0};\n",
        "          regwrite  \t<= 1'b0;\n",
        "          branch_eq \t<= (f3 == 3'b000) ? 1'b1 : 1'b0;\n",
        "          branch_ne \t<= (f3 == 3'b001) ? 1'b1 : 1'b0;\n",
        "          branch_lt \t<= (f3 == 3'b100) ? 1'b1 : 1'b0;\n",
        "\t\t  end\n",
        "\t\t\t7'b0100011: begin\t/* S-Type: sb; sh; sw */\n",
        "\t\t\t\t\tmemwrite \t\t<= 1'b1;\n",
        "\t\t\t\t\taluop[1:0] \t<= 2'b00;\n",
        "\t\t\t\t\talusrc  \t \t<= 1'b1;\n",
        "\t\t\t\t\tregwrite \t\t<= 1'b0;\n",
        "\t\t\t\t\tImmGen   \t\t<= {{20{inst[31]}},inst[31:25],inst[11:7]};\n",
        "\t\t\tend\n",
        "\t\t\t7'b0110011: begin\t/* R-Type: add, sub, sll, slt, sltu, xor, srl, sra, or, and */\n",
        "\t\t\tend\n",
        "\t\t\t// Problema 3: Alteração para implementar o jump\n",
        "\t\t\t7'b1101111: begin\t/* J-Type: j */\n",
        "\t\t\t\t\tjump \t\t\t \t<= 1'b1;\n",
        "\t\t\t\t\taluop[1:0] \t<= 2'b01;\n",
        "\t\t\t\t\tImmGen\t\t \t<= {{11{inst[31]}},inst[20],inst[10:1],inst[11],inst[19:12], 1'b0};\n",
        "\t\t\t\t\tbranch_eq \t<= 1'b1;\n",
        "\t\t\tend\n",
        "\t\tendcase\n",
        "\tend\n",
        "endmodule"
      ]
    },
    {
      "cell_type": "markdown",
      "metadata": {
        "id": "Zbf486AtLbiB"
      },
      "source": [
        "<img src=\"https://raw.githubusercontent.com/cacauvicosa/mips/master/michael/riscv/riscv-single/riscv-single.png\" width=\"600\">"
      ]
    },
    {
      "cell_type": "markdown",
      "metadata": {
        "id": "OvvOFNLrFjn0"
      },
      "source": [
        "## Processador RISCV\n"
      ]
    },
    {
      "cell_type": "markdown",
      "metadata": {
        "id": "KZY-c5aQGZLs"
      },
      "source": [
        "### RiscV Opcodes bits e Registradores\n",
        "\n",
        "\n",
        "<img src=\"https://raw.githubusercontent.com/arduinoufv/inf251/main/figures/mips_opcode_regs.png\" alt=\"wscad2020\" width=\"300\"/>  <img src=\"https://raw.githubusercontent.com/arduinoufv/inf251/main/figures/riscV_opcode_regs.png\" alt=\"wscad2020\" width=\"300\"/> "
      ]
    },
    {
      "cell_type": "markdown",
      "metadata": {
        "id": "3ViCX8TRNrWR"
      },
      "source": [
        "### Código de decodificação"
      ]
    },
    {
      "cell_type": "code",
      "execution_count": 17,
      "metadata": {
        "colab": {
          "base_uri": "https://localhost:8080/"
        },
        "id": "eQ6bFHfZJWJM",
        "outputId": "b65acb2d-84bd-4e1a-b1ed-70a0d9c00816"
      },
      "outputs": [
        {
          "output_type": "stream",
          "name": "stdout",
          "text": [
            "Overwriting decodefields.v\n"
          ]
        }
      ],
      "source": [
        "%%writefile decodefields.v\n",
        "wire [5:0]  opcode; wire [6:0]  opcoderv; \n",
        "\twire [4:0]  rs;     wire [4:0]  rs1;\n",
        "\twire [4:0]  rt;     wire [4:0]  rs2;\n",
        "\twire [4:0]  rd;\n",
        "                      wire [6:0] func7; wire [2:0] func3;\n",
        "\twire [15:0] imm;\n",
        "\twire [4:0]  shamt;\n",
        "\twire [31:0] jaddr_s2;\n",
        "\twire [31:0] seimm;  // sign extended immediate\n",
        "\t//\n",
        "\tassign opcode   = inst_s2[31:26];  assign opcoderv   = inst_s2[6:0]; \n",
        "\tassign rs       = inst_s2[25:21];  assign rs2       = inst_s2[24:20];\n",
        "\tassign rt       = inst_s2[20:16];  assign rs1       = inst_s2[19:15];\n",
        "\tassign rd       = inst_s2[11:7];\n",
        "                                      assign func7       = inst_s2[31:25];\n",
        "                                      assign func3       = inst_s2[14:12];\n",
        "\tassign imm      = inst_s2[15:0];\n",
        "\tassign shamt    = inst_s2[10:6];\n",
        "\tassign jaddr_s2 = {pc[31:28], inst_s2[25:0], {2{1'b0}}};\n",
        "\tassign seimm \t= {{16{inst_s2[15]}}, inst_s2[15:0]};\n",
        "\n",
        "  // register file\n",
        "\twire [31:0] data1, data2;\n",
        "\tregm regm1(.clk(clk), .read1(rs1), .read2(rs2),\n",
        "\t\t\t.data1(data1), .data2(data2),\n",
        "\t\t\t.regwrite(regwrite_s5), .wrreg(wrreg_s5),\n",
        "\t\t\t.wrdata(wrdata_s5));\n",
        "\n",
        "      // control (opcode -> ...)\n",
        "\twire\t\tregdst;\n",
        "\twire\t\tbranch_eq_s2;\n",
        "\twire\t\tbranch_ne_s2;\n",
        "  wire\t\tbranch_lt_s2;\n",
        "\twire\t\tmemread;\n",
        "\twire\t\tmemwrite;\n",
        "\twire\t\tmemtoreg;\n",
        "\twire [1:0]\taluop;\n",
        "\twire\t\tregwrite;\n",
        "\twire\t\talusrc;\n",
        "\twire\t\tjump_s2;\n",
        "  wire [31:0] ImmGen;  // RISCV\n",
        "\t//\n",
        "  //agora passa blt para o control\n",
        "\tcontrol ctl1(.opcode(opcoderv), .regdst(regdst),\n",
        "\t\t\t\t.branch_eq(branch_eq_s2), .branch_ne(branch_ne_s2), .branch_lt(branch_lt_s2),\n",
        "\t\t\t\t.memread(memread),\n",
        "\t\t\t\t.memtoreg(memtoreg), .aluop(aluop),\n",
        "\t\t\t\t.memwrite(memwrite), .alusrc(alusrc),\n",
        "\t\t\t\t.regwrite(regwrite), .jump(jump_s2), .ImmGen(ImmGen), .inst(inst_s2));\n",
        "\n",
        "  \t// pass rs to stage 3 (for forwarding)\n",
        "\twire [4:0] rs_s3;     \twire [4:0] rs1_s3;\n",
        "\tregr #(.N(5)) regr_s2_rs(.clk(clk), .clear(1'b0), .hold(stall_s1_s2),\n",
        "\t\t\t\t.in(rs1), .out(rs1_s3));\n",
        "\n",
        "\t// transfer seimm, rt, and rd to stage 3\n",
        "\twire [31:0] seimm_s3;\n",
        "\twire [4:0] \trt_s3;    wire [4:0] rs2_s3;\n",
        "\twire [4:0] \trd_s3;\n",
        "\tregr #(.N(32)) reg_s2_seimm(.clk(clk), .clear(flush_s2), .hold(stall_s1_s2),\n",
        "\t\t\t\t\t\t.in(ImmGen), .out(seimm_s3));  // RISCV\n",
        "\tregr #(.N(10)) reg_s2_rt_rd(.clk(clk), .clear(flush_s2), .hold(stall_s1_s2),\n",
        "\t\t\t\t\t\t.in({rs2, rd}), .out({rs2_s3, rd_s3}));\n",
        "\n",
        "  // shift left, seimm\n",
        "\twire [31:0] seimm_sl2;\n",
        "\tassign seimm_sl2 = {seimm[29:0], 2'b0};  // shift left 2 bits\n",
        "\t// branch address\n",
        "\twire [31:0] baddr_s2;\n",
        "\tassign baddr_s2 = pc4_s2 + ImmGen;\n",
        "\n",
        "  wire [3:0] func_s3;\n",
        "  \n",
        "  \tregr #(.N(4)) func7_3_s2(.clk(clk), .clear(1'b0), .hold(stall_s1_s2),\n",
        "\t\t\t\t\t\t.in({func7[5],func3}), .out(func_s3));\n",
        "\n",
        "\n"
      ]
    },
    {
      "cell_type": "markdown",
      "metadata": {
        "id": "T_Y_SV6oHjDR"
      },
      "source": [
        "### RiscV Immediate and Funct Alucontrol\n",
        "\n",
        "<img src=\"https://raw.githubusercontent.com/arduinoufv/inf251/main/figures/mips_imgen_aluctrl.png\" alt=\"wscad2020\" width=\"300\"/>  <img src=\"https://raw.githubusercontent.com/arduinoufv/inf251/main/figures/imgen_aluctrl_RiscV.png\" alt=\"wscad2020\" width=\"300\"/> "
      ]
    },
    {
      "cell_type": "markdown",
      "metadata": {
        "id": "Jt9IYNGiOonY"
      },
      "source": [
        "### Estágio de execução"
      ]
    },
    {
      "cell_type": "code",
      "execution_count": 18,
      "metadata": {
        "colab": {
          "base_uri": "https://localhost:8080/"
        },
        "id": "rbqphKCGUSk4",
        "outputId": "c3c79b87-6c5c-4886-b06d-59bee264d0e8"
      },
      "outputs": [
        {
          "output_type": "stream",
          "name": "stdout",
          "text": [
            "Overwriting execution_newcode.v\n"
          ]
        }
      ],
      "source": [
        "%%writefile execution_newcode.v\n",
        "// ALU\n",
        "\t// second ALU input can come from an immediate value or data\n",
        "\twire [31:0] alusrc_data2;\n",
        "\tassign alusrc_data2 = (alusrc_s3) ? seimm_s3 : fw_data2_s3;\n",
        "\t// ALU control\n",
        "\twire [3:0] aluctl;\n",
        "\twire [5:0] funct;\n",
        "\tassign funct = seimm_s3[5:0];\n",
        "\talu_control alu_ctl1(.funct(func_s3), .aluop(aluop_s3), .aluctl(aluctl));\n",
        "\t// ALU\n",
        "\twire [31:0]\talurslt;\n",
        "  wire zero_s3;\n",
        "\talu alu1(.ctl(aluctl), .a(fw_data1_s3), .b(alusrc_data2), .out(alurslt),\n",
        "\t\t\t\t\t\t\t\t\t.zero(zero_s3));\n",
        "\n",
        "                  \t// write register\n",
        "\twire [4:0]\twrreg;\n",
        "\twire [4:0]\twrreg_s4;\n",
        "\tassign wrreg = (regdst_s3) ? rd_s3 : rs2_s3;\n"
      ]
    },
    {
      "cell_type": "markdown",
      "metadata": {
        "id": "t_1BL9O7Ihcl"
      },
      "source": [
        "### Mips e RISCV Formato de instruções\n",
        "\n",
        "<img src=\"https://raw.githubusercontent.com/arduinoufv/inf251/main/figures/mips_formato_instrucoes.png\" alt=\"wscad2020\" width=\"500\"/>  <img src=\"https://raw.githubusercontent.com/arduinoufv/inf251/main/figures/riscVaddsubaddildsd.png\" alt=\"wscad2020\" width=\"500\"/> "
      ]
    },
    {
      "cell_type": "markdown",
      "metadata": {
        "id": "jxpdf98rMwaB"
      },
      "source": [
        "### DATAPATH\n",
        "\n",
        "<img src=\"https://raw.githubusercontent.com/arduinoufv/inf251/main/figures/riscvhazard_forward.png\" alt=\"wscad2020\" width=\"800\"/> \n"
      ]
    },
    {
      "cell_type": "markdown",
      "metadata": {
        "id": "788H9XHXKABg"
      },
      "source": [
        "### Código main"
      ]
    },
    {
      "cell_type": "code",
      "execution_count": 19,
      "metadata": {
        "colab": {
          "base_uri": "https://localhost:8080/"
        },
        "id": "AgHjYTjeFiVB",
        "outputId": "96a916cd-6572-4d70-fbb6-7843114dc9a0"
      },
      "outputs": [
        {
          "output_type": "stream",
          "name": "stdout",
          "text": [
            "Overwriting main.v\n"
          ]
        }
      ],
      "source": [
        "%%writefile main.v\n",
        "/*\n",
        " * cpu. - five stage MIPS CPU.\n",
        " *\n",
        " */\n",
        "\n",
        "\n",
        "`include \"regr.v\"\n",
        "`include \"im_reg.v\"\n",
        "`include \"alu.v\"\n",
        "`include \"control.v\"\n",
        "`include \"datam.v\"\n",
        "\n",
        "\n",
        "\n",
        "module cpu(\n",
        "\t\tinput wire clk);\n",
        "\n",
        "\tparameter NMEM = 7;  // number in instruction memory\n",
        "\tparameter IM_DATA = \"im_data.txt\";\n",
        "\n",
        "\twire regwrite_s5;\n",
        "\twire [4:0] wrreg_s5;\n",
        "\twire [31:0]\twrdata_s5;\n",
        "\treg stall_s1_s2;\n",
        "\n",
        "\t// {{{ flush control\n",
        "\treg flush_s1, flush_s2, flush_s3;\n",
        "\talways @(*) begin\n",
        "\t\tflush_s1 <= 1'b0;\n",
        "\t\tflush_s2 <= 1'b0;\n",
        "\t\tflush_s3 <= 1'b0;\n",
        "\t\tif (pcsrc | jump_s4) begin\n",
        "\t\t\tflush_s1 <= 1'b1;\n",
        "\t\t\tflush_s2 <= 1'b1;\n",
        "\t\t\tflush_s3 <= 1'b1;\n",
        "\t\tend\n",
        "\tend\n",
        "\t// }}}\n",
        "\n",
        "\t// {{{ stage 1, IF (fetch)\n",
        "\n",
        "\treg  [5:0] clock_counter;\n",
        "\tinitial begin\n",
        "\t\tclock_counter <= 6'd1;\n",
        "\tend\n",
        "        always @(posedge clk) begin\n",
        "                clock_counter <= clock_counter + 1;\n",
        "\tend\n",
        "\n",
        "\treg  [31:0] pc;\n",
        "\tinitial begin\n",
        "\t\tpc <= 32'd0;\n",
        "\tend\n",
        "\n",
        "\twire [31:0] pc4;  // PC + 4\n",
        "\tassign pc4 = pc + 4;   \n",
        "\n",
        "\talways @(posedge clk) begin\n",
        "\t\tif (stall_s1_s2) \n",
        "\t\t\tpc <= pc;\n",
        "\t\telse if (pcsrc == 1'b1)\n",
        "\t\t\tpc <= baddr_s4;\n",
        "\t\telse if (jump_s4 == 1'b1)\n",
        "\t\t\tpc <= jaddr_s4;\n",
        "\t\telse\n",
        "\t\t\tpc <= pc4;\n",
        "\tend\n",
        "\n",
        "\t// pass PC + 4 to stage 2\n",
        "\twire [31:0] pc4_s2;\n",
        "\tregr #(.N(32)) regr_pc4_s2(.clk(clk),\n",
        "\t\t\t\t\t\t.hold(stall_s1_s2), .clear(flush_s1),\n",
        "\t\t\t\t\t\t.in(pc), .out(pc4_s2));\n",
        "\n",
        "\t// instruction memory\n",
        "\twire [31:0] inst;\n",
        "\twire [31:0] inst_s2;\n",
        "\tim #(.NMEM(NMEM), .IM_DATA(IM_DATA))\n",
        "\t\tim1(.clk(clk), .addr(pc), .data(inst));\n",
        "\tregr #(.N(32)) regr_im_s2(.clk(clk),\n",
        "\t\t\t\t\t\t.hold(stall_s1_s2), .clear(flush_s1),\n",
        "\t\t\t\t\t\t.in(inst), .out(inst_s2));\n",
        "\n",
        "\t// }}}\n",
        "\n",
        "\t// {{{ stage 2, ID (decode)\n",
        "\n",
        "`include \"decodefields.v\"\n",
        "\n",
        "\n",
        "\t// transfer register data to stage 3\n",
        "\twire [31:0]\tdata1_s3, data2_s3;\n",
        "\tregr #(.N(64)) reg_s2_mem(.clk(clk), .clear(flush_s2), .hold(stall_s1_s2),\n",
        "\t\t\t\t.in({data1, data2}),\n",
        "\t\t\t\t.out({data1_s3, data2_s3}));\n",
        "\n",
        "\n",
        "\t// transfer PC + 4 to stage 3\n",
        "\twire [31:0] pc4_s3;\n",
        "\tregr #(.N(32)) reg_pc4_s2(.clk(clk), .clear(1'b0), .hold(stall_s1_s2),\n",
        "\t\t\t\t\t\t.in(pc4_s2), .out(pc4_s3));\n",
        "\n",
        "\t\n",
        "\n",
        "\n",
        "\t// transfer the control signals to stage 3\n",
        "\twire\t\tregdst_s3;\n",
        "\twire\t\tmemread_s3;\n",
        "\twire\t\tmemwrite_s3;\n",
        "\twire\t\tmemtoreg_s3;\n",
        "\twire [1:0]\taluop_s3;\n",
        "\twire\t\tregwrite_s3;\n",
        "\twire\t\talusrc_s3;\n",
        "\t// A bubble is inserted by setting all the control signals\n",
        "\t// to zero (stall_s1_s2).\n",
        "\tregr #(.N(8)) reg_s2_control(.clk(clk), .clear(stall_s1_s2), .hold(1'b0),\n",
        "\t\t\t.in({regdst, memread, memwrite,\n",
        "\t\t\t\t\tmemtoreg, aluop, regwrite, alusrc}),\n",
        "\t\t\t.out({regdst_s3, memread_s3, memwrite_s3,\n",
        "\t\t\t\t\tmemtoreg_s3, aluop_s3, regwrite_s3, alusrc_s3}));\n",
        "\n",
        "\twire branch_eq_s3, branch_ne_s3, branch_lt_s3;\n",
        "\tregr #(.N(3)) branch_s2_s3(.clk(clk), .clear(flush_s2), .hold(1'b0),\n",
        "\t\t\t\t.in({branch_eq_s2, branch_ne_s2,branch_lt_s2}),\n",
        "\t\t\t\t.out({branch_eq_s3, branch_ne_s3,branch_lt_s3}));\n",
        "\n",
        "\twire [31:0] baddr_s3;\n",
        "\tregr #(.N(32)) baddr_s2_s3(.clk(clk), .clear(flush_s2), .hold(1'b0),\n",
        "\t\t\t\t.in(baddr_s2), .out(baddr_s3));\n",
        "\n",
        "\twire jump_s3;\n",
        "\tregr #(.N(1)) reg_jump_s3(.clk(clk), .clear(flush_s2), .hold(1'b0),\n",
        "\t\t\t\t.in(jump_s2),\n",
        "\t\t\t\t.out(jump_s3));\n",
        "\n",
        "\twire [31:0] jaddr_s3;\n",
        "\tregr #(.N(32)) reg_jaddr_s3(.clk(clk), .clear(flush_s2), .hold(1'b0),\n",
        "\t\t\t\t.in(jaddr_s2), .out(jaddr_s3));\n",
        "\t// }}}\n",
        "\n",
        "\t// {{{ stage 3, EX (execute)\n",
        "\n",
        "\treg [31:0] fw_data1_s3;\n",
        "`include \"execution_newcode.v\"\n",
        "\n",
        "\t// pass through some control signals to stage 4\n",
        "\twire regwrite_s4;\n",
        "\twire memtoreg_s4;\n",
        "\twire memread_s4;\n",
        "\twire memwrite_s4;\n",
        "\tregr #(.N(4)) reg_s3(.clk(clk), .clear(flush_s2), .hold(1'b0),\n",
        "\t\t\t\t.in({regwrite_s3, memtoreg_s3, memread_s3,\n",
        "\t\t\t\t\t\tmemwrite_s3}),\n",
        "\t\t\t\t.out({regwrite_s4, memtoreg_s4, memread_s4,\n",
        "\t\t\t\t\t\tmemwrite_s4}));\n",
        "\n",
        "\n",
        "\talways @(*)\n",
        "\tcase (forward_a)\n",
        "\t\t\t2'd1: fw_data1_s3 = alurslt_s4;\n",
        "\t\t\t2'd2: fw_data1_s3 = wrdata_s5;\n",
        "\t\t default: fw_data1_s3 = data1_s3;\n",
        "\tendcase\n",
        "\n",
        "\twire zero_s4;\n",
        "\tregr #(.N(1)) reg_zero_s3_s4(.clk(clk), .clear(1'b0), .hold(1'b0),\n",
        "\t\t\t\t\t.in(zero_s3), .out(zero_s4));\n",
        "\n",
        "\t// pass ALU result and zero to stage 4\n",
        "\twire [31:0]\talurslt_s4;\n",
        "\tregr #(.N(32)) reg_alurslt(.clk(clk), .clear(flush_s3), .hold(1'b0),\n",
        "\t\t\t\t.in({alurslt}),\n",
        "\t\t\t\t.out({alurslt_s4}));\n",
        "\n",
        "\t// pass data2 to stage 4\n",
        "\twire [31:0] data2_s4;\n",
        "\treg [31:0] fw_data2_s3;\n",
        "\talways @(*)\n",
        "\tcase (forward_b)\n",
        "\t\t\t2'd1: fw_data2_s3 = alurslt_s4;\n",
        "\t\t\t2'd2: fw_data2_s3 = wrdata_s5;\n",
        "\t\t default: fw_data2_s3 = data2_s3;\n",
        "\tendcase\n",
        "\tregr #(.N(32)) reg_data2_s3(.clk(clk), .clear(flush_s3), .hold(1'b0),\n",
        "\t\t\t\t.in(fw_data2_s3), .out(data2_s4));\n",
        "\n",
        "\n",
        "\t// pass to stage 4\n",
        "\tregr #(.N(5)) reg_wrreg(.clk(clk), .clear(flush_s3), .hold(1'b0),\n",
        "\t\t\t\t.in(wrreg), .out(wrreg_s4));\n",
        "\n",
        "\twire branch_eq_s4, branch_ne_s4, branch_lt_s4;\n",
        "\tregr #(.N(3)) branch_s3_s4(.clk(clk), .clear(flush_s3), .hold(1'b0),\n",
        "\t\t\t\t.in({branch_eq_s3, branch_ne_s3,branch_lt_s3}),\n",
        "\t\t\t\t.out({branch_eq_s4, branch_ne_s4,branch_lt_s4}));\n",
        "\n",
        "\twire [31:0] baddr_s4;\n",
        "\tregr #(.N(32)) baddr_s3_s4(.clk(clk), .clear(flush_s3), .hold(1'b0),\n",
        "\t\t\t\t.in(baddr_s3), .out(baddr_s4));\n",
        "\n",
        "\twire jump_s4;\n",
        "\tregr #(.N(1)) reg_jump_s4(.clk(clk), .clear(flush_s3), .hold(1'b0),\n",
        "\t\t\t\t.in(jump_s3),\n",
        "\t\t\t\t.out(jump_s4));\n",
        "\n",
        "\twire [31:0] jaddr_s4;\n",
        "\tregr #(.N(32)) reg_jaddr_s4(.clk(clk), .clear(flush_s3), .hold(1'b0),\n",
        "\t\t\t\t.in(jaddr_s3), .out(jaddr_s4));\n",
        "\t// }}}\n",
        "\n",
        "\t// {{{ stage 4, MEM (memory)\n",
        "\n",
        "\t// pass regwrite and memtoreg to stage 5\n",
        "\twire memtoreg_s5;\n",
        "\tregr #(.N(2)) reg_regwrite_s4(.clk(clk), .clear(1'b0), .hold(1'b0),\n",
        "\t\t\t\t.in({regwrite_s4, memtoreg_s4}),\n",
        "\t\t\t\t.out({regwrite_s5, memtoreg_s5}));\n",
        "\n",
        "\t// data memory\n",
        "\twire [31:0] rdata;\n",
        "\tdm dm1(.clk(clk), .addr(alurslt_s4[8:2]), .rd(memread_s4), .wr(memwrite_s4),\n",
        "\t\t\t.wdata(data2_s4), .rdata(rdata));\n",
        "\t// pass read data to stage 5\n",
        "\twire [31:0] rdata_s5;\n",
        "\tregr #(.N(32)) reg_rdata_s4(.clk(clk), .clear(1'b0), .hold(1'b0),\n",
        "\t\t\t\t.in(rdata),\n",
        "\t\t\t\t.out(rdata_s5));\n",
        "\n",
        "\t// pass alurslt to stage 5\n",
        "\twire [31:0] alurslt_s5;\n",
        "\tregr #(.N(32)) reg_alurslt_s4(.clk(clk), .clear(1'b0), .hold(1'b0),\n",
        "\t\t\t\t.in(alurslt_s4),\n",
        "\t\t\t\t.out(alurslt_s5));\n",
        "\n",
        "\t// pass wrreg to stage 5\n",
        "\tregr #(.N(5)) reg_wrreg_s4(.clk(clk), .clear(1'b0), .hold(1'b0),\n",
        "\t\t\t\t.in(wrreg_s4),\n",
        "\t\t\t\t.out(wrreg_s5));\n",
        "\n",
        "\t// branch\n",
        "\treg pcsrc;\n",
        "\talways @(*) begin\n",
        "\t\tcase (1'b1)\n",
        "\t\t\tbranch_eq_s4: pcsrc <= zero_s4;\n",
        "\t\t\tbranch_ne_s4: pcsrc <= ~(zero_s4);\n",
        "\t\t\tbranch_lt_s4: pcsrc <= alurslt_s4[31];\n",
        "\n",
        "\t\t\tdefault: pcsrc <= 1'b0;\n",
        "\t\tendcase\n",
        "\tend\n",
        "\t// }}}\n",
        "\t\t\t\n",
        "\t// {{{ stage 5, WB (write back)\n",
        "\n",
        "\tassign wrdata_s5 = (memtoreg_s5 == 1'b1) ? rdata_s5 : alurslt_s5;\n",
        "\n",
        "\t// }}}\n",
        "\n",
        "\t// {{{ forwarding\n",
        "\n",
        "\t// stage 3 (MEM) -> stage 2 (EX)\n",
        "\t// stage 4 (WB) -> stage 2 (EX)\n",
        "\n",
        "\treg [1:0] forward_a;\n",
        "\treg [1:0] forward_b;\n",
        "\talways @(*) begin\n",
        "\t\t// If the previous instruction (stage 4) would write,\n",
        "\t\t// and it is a value we want to read (stage 3), forward it.\n",
        "\n",
        "\t\t// data1 input to ALU\n",
        "\t\tif ((regwrite_s4 == 1'b1) && (wrreg_s4 == rs1_s3)) begin\n",
        "\t\t\tforward_a <= 2'd1;  // stage 4\n",
        "\t\tend else if ((regwrite_s5 == 1'b1) && (wrreg_s5 == rs1_s3)) begin\n",
        "\t\t\tforward_a <= 2'd2;  // stage 5\n",
        "\t\tend else\n",
        "\t\t\tforward_a <= 2'd0;  // no forwarding\n",
        "\n",
        "\t\t// data2 input to ALU\n",
        "\t\tif ((regwrite_s4 == 1'b1) & (wrreg_s4 == rs2_s3)) begin\n",
        "\t\t\tforward_b <= 2'd1;  // stage 5\n",
        "\t\tend else if ((regwrite_s5 == 1'b1) && (wrreg_s5 == rs2_s3)) begin\n",
        "\t\t\tforward_b <= 2'd2;  // stage 5\n",
        "\t\tend else\n",
        "\t\t\tforward_b <= 2'd0;  // no forwarding\n",
        "\tend\n",
        "\t// }}}\n",
        "\n",
        "\t// {{{ load use data hazard detection, signal stall\n",
        "\n",
        "\t/* If an operation in stage 4 (MEM) loads from memory (e.g. lw)\n",
        "\t * and the operation in stage 3 (EX) depends on this value,\n",
        "\t * a stall must be performed.  The memory read cannot \n",
        "\t * be forwarded because memory access is too slow.  It can\n",
        "\t * be forwarded from stage 5 (WB) after a stall.\n",
        "\t *\n",
        "\t *   lw $1, 16($10)  ; I-type, rt_s3 = $1, memread_s3 = 1\n",
        "\t *   sw $1, 32($12)  ; I-type, rt_s2 = $1, memread_s2 = 0\n",
        "\t *\n",
        "\t *   lw $1, 16($3)  ; I-type, rt_s3 = $1, memread_s3 = 1\n",
        "\t *   sw $2, 32($1)  ; I-type, rt_s2 = $2, rs_s2 = $1, memread_s2 = 0\n",
        "\t *\n",
        "\t *   lw  $1, 16($3)  ; I-type, rt_s3 = $1, memread_s3 = 1\n",
        "\t *   add $2, $1, $1  ; R-type, rs_s2 = $1, rt_s2 = $1, memread_s2 = 0\n",
        "\t */\n",
        "\talways @(*) begin\n",
        "\t\tif (memread_s3 == 1'b1 && ((rs2 == rd_s3) || (rs1 == rd_s3)) ) begin\n",
        "\t\t\tstall_s1_s2 <= 1'b1;  // perform a stall\n",
        "\t\tend else\n",
        "\t\t\tstall_s1_s2 <= 1'b0;  // no stall\n",
        "\tend\n",
        "\t// }}}\n",
        "\n",
        "endmodule\n",
        "\n",
        "\n",
        "module top;\n",
        "reg clk;\n",
        "\n",
        "initial begin\n",
        "  clk=0;\n",
        "     forever #1 clk = ~clk;  \n",
        "end \n",
        "//altere aqui, de acordo com o numero de instruções no programa\n",
        "parameter nInstrucoes = 50;\n",
        "cpu #(nInstrucoes)CPU(clk);\n",
        "initial begin\n",
        "    $dumpfile(\"test.vcd\");\n",
        "    $dumpvars(0,top);\n",
        "    #256\n",
        "    $writememh(\"mem.data\", top.CPU.dm1.mem, 0, 15);\n",
        "    $writememh(\"reg.data\", top.CPU.regm1.mem, 0, 15);\n",
        "    $dumpoff;\n",
        "    $finish;\n",
        "    end\n",
        "\n",
        "endmodule\n"
      ]
    },
    {
      "cell_type": "markdown",
      "metadata": {
        "id": "5DC87DONFtRv"
      },
      "source": [
        "## Formas de onda\n",
        "\n",
        "(Caso apareça warning relacionado a im_data.txt, desconsidere. Isso significa que a memória de dados está com poucas instruções)"
      ]
    },
    {
      "cell_type": "code",
      "execution_count": null,
      "metadata": {
        "id": "QdcnWwF-ah9G"
      },
      "outputs": [],
      "source": [
        "%%verilog\n",
        "`include \"main.v\""
      ]
    },
    {
      "cell_type": "markdown",
      "metadata": {
        "id": "ArFBP_AoFvf8"
      },
      "source": [
        "### Fetch"
      ]
    },
    {
      "cell_type": "code",
      "execution_count": null,
      "metadata": {
        "id": "CyxgvCRGFrbU"
      },
      "outputs": [],
      "source": [
        "%%waveform test.vcd\n",
        "\n",
        "sign_list = ['top.clk','top.CPU.clock_counter','top.CPU.pc','top.CPU.inst', 'top.CPU.rs1','top.CPU.rs2', 'top.CPU.rd','top.CPU.alurslt' ]\n",
        "time_begin = 0\n",
        "time_end = 40\n",
        "base = 'hex' # bin, dec, dec2, hex, octal\n"
      ]
    },
    {
      "cell_type": "markdown",
      "metadata": {
        "id": "1KRUc4HkFznz"
      },
      "source": [
        "### Decode"
      ]
    },
    {
      "cell_type": "code",
      "execution_count": null,
      "metadata": {
        "id": "c6dIoUexFy8r"
      },
      "outputs": [],
      "source": [
        "%%waveform test.vcd\n",
        "\n",
        "op_dict = [{'110011':'ALU'}, {'10':'sp','111':'t2','1001':'s1', '1000':'s0','110':'t1','100':'tp','1':'ra','11':'gp', '101':'t0'} ]\n",
        "\n",
        "sign_list = ['top.CPU.clock_counter','top.CPU.opcoderv,r[0]', 'top.CPU.rs1','top.CPU.rs2', 'top.CPU.rd','top.CPU.data1', 'top.CPU.data2' , 'top.CPU.func3', 'top.CPU.func7,b' ]\n",
        "time_begin = 0\n",
        "time_end = 40\n",
        "base = 'dec' # bin, dec, dec2, hex, octal\n"
      ]
    },
    {
      "cell_type": "markdown",
      "metadata": {
        "id": "-YM8ICMXV74F"
      },
      "source": [
        "### Execute"
      ]
    },
    {
      "cell_type": "markdown",
      "metadata": {
        "id": "e0khKphXWN98"
      },
      "source": [
        "#### Add e Sub"
      ]
    },
    {
      "cell_type": "code",
      "execution_count": null,
      "metadata": {
        "id": "IZgUZjHOxcrs"
      },
      "outputs": [],
      "source": [
        "%%waveform test.vcd\n",
        "\n",
        "op_dict = [{'10':'add','110':'sub'}, {'10':'sp','111':'t2','1001':'s1', '1000':'s0','110':'t1','100':'tp','1':'ra','11':'gp', '101':'t0'} ]\n",
        "\n",
        "sign_list = ['top.CPU.clock_counter','top.CPU.func3', 'top.CPU.func7,b', 'top.CPU.aluctl,r[0]' , 'top.CPU.fw_data1_s3', 'top.CPU.alusrc_data2','top.CPU.alurslt']\n",
        "time_begin = 0\n",
        "time_end = 40\n",
        "base = 'dec2' # bin, dec, dec2, hex, octal\n"
      ]
    },
    {
      "cell_type": "markdown",
      "metadata": {
        "id": "SDkdCKbhWTB1"
      },
      "source": [
        "#### Forward"
      ]
    },
    {
      "cell_type": "code",
      "execution_count": null,
      "metadata": {
        "id": "PDvg1SHUdD59"
      },
      "outputs": [],
      "source": [
        "%%writefile simple.s\n",
        "add x2,x3,x4\n",
        "sub x3,x5,x1\n",
        "add x7,x2,x3"
      ]
    },
    {
      "cell_type": "code",
      "execution_count": null,
      "metadata": {
        "id": "Tudfa9D4dbNB"
      },
      "outputs": [],
      "source": [
        "!rm -f -r simple/*\n",
        "def assemble():\n",
        "  cnv = AssemblyConverter(output_type = \"t\") #just text\n",
        "  cnv.convert(\"simple.s\")\n",
        "  # Using readlines()\n",
        "  file1 = open('simple/txt/simple.txt', 'r')\n",
        "  Lines = file1.readlines()\n",
        "  file1 = open('im_data.txt', 'w')\n",
        "\n",
        "\n",
        "  for line in Lines:\n",
        "    decimal_representation = int(line, 2)\n",
        "    hexadecimal_string = hex(decimal_representation)\n",
        "    file1.write(hexadecimal_string[2:]+'\\n')\n",
        "\n",
        "  file1.close()\n",
        "\n",
        "assemble()"
      ]
    },
    {
      "cell_type": "code",
      "execution_count": null,
      "metadata": {
        "id": "KA8M21GUc5w0"
      },
      "outputs": [],
      "source": [
        "%%verilog \n",
        "`include \"main.v\""
      ]
    },
    {
      "cell_type": "code",
      "execution_count": null,
      "metadata": {
        "id": "WKQAsUptdm7V"
      },
      "outputs": [],
      "source": [
        "%%waveform test.vcd\n",
        "\n",
        "op_dict = [{'10':'add','110':'sub'}, {'10':'sp','111':'t2','1001':'s1', '1000':'s0','110':'t1','100':'tp','1':'ra','11':'gp', '101':'t0'} ]\n",
        "\n",
        "sign_list = ['top.CPU.clock_counter','top.CPU.func3', 'top.CPU.func7,b', 'top.CPU.aluctl,r[0]' , 'top.CPU.fw_data1_s3', 'top.CPU.alusrc_data2','top.CPU.alurslt']\n",
        "time_begin = 0\n",
        "time_end = 40\n",
        "base = 'dec2' # bin, dec, dec2, hex, octal\n"
      ]
    },
    {
      "cell_type": "markdown",
      "metadata": {
        "id": "_SpXsLguWYx0"
      },
      "source": [
        "#### Addi"
      ]
    },
    {
      "cell_type": "code",
      "execution_count": null,
      "metadata": {
        "id": "rVKAqhmZfBkI"
      },
      "outputs": [],
      "source": [
        "%%writefile simple.s\n",
        "add x2,x3,x4  \n",
        "sub x3,x5,x1\n",
        "add x7,x2,x3\n",
        "addi x2,x0,5\n",
        "addi x3,x1,-2"
      ]
    },
    {
      "cell_type": "code",
      "execution_count": null,
      "metadata": {
        "id": "UXaOXcUMfVEt"
      },
      "outputs": [],
      "source": [
        "!rm -f -r simple/*\n",
        "assemble()"
      ]
    },
    {
      "cell_type": "code",
      "execution_count": null,
      "metadata": {
        "id": "BzxgC4mhfhzI"
      },
      "outputs": [],
      "source": [
        "!cat simple/txt/simple.txt"
      ]
    },
    {
      "cell_type": "code",
      "execution_count": null,
      "metadata": {
        "id": "lcUNqY2SfwmC"
      },
      "outputs": [],
      "source": [
        "%%verilog \n",
        "`include \"main.v\""
      ]
    },
    {
      "cell_type": "markdown",
      "metadata": {
        "id": "TD9WY2OrjWTL"
      },
      "source": [
        "##### Decode"
      ]
    },
    {
      "cell_type": "code",
      "execution_count": null,
      "metadata": {
        "id": "XoWM0LDxf0c2"
      },
      "outputs": [],
      "source": [
        "%%waveform test.vcd\n",
        "\n",
        "op_dict = [{'10':'add','110':'sub'}, {'110011':'ALU','10011':'addi'},{'10':'sp','111':'t2','1001':'s1', '1000':'s0','110':'t1','100':'tp','1':'ra','11':'gp', '101':'t0'} ]\n",
        "\n",
        "sign_list = ['top.CPU.clock_counter','top.CPU.opcoderv,r[1]' , 'top.CPU.data1', 'top.CPU.data2','top.CPU.ImmGen', 'top.CPU.alurslt']\n",
        "time_begin = 0\n",
        "time_end = 40\n",
        "base = 'dec2' # bin, dec, dec2, hex, octal\n"
      ]
    },
    {
      "cell_type": "markdown",
      "metadata": {
        "id": "1j3hctxOlsk9"
      },
      "source": [
        "##### Execute\n"
      ]
    },
    {
      "cell_type": "code",
      "execution_count": null,
      "metadata": {
        "id": "Ir_gyJbSl1Rt"
      },
      "outputs": [],
      "source": [
        "%%waveform test.vcd\n",
        "\n",
        "op_dict = [{'10':'add','110':'sub'}, {'10':'sp','111':'t2','1001':'s1', '1000':'s0','110':'t1','100':'tp','1':'ra','11':'gp', '101':'t0'} ]\n",
        "\n",
        "sign_list = ['top.CPU.clock_counter','top.CPU.func3', 'top.CPU.func7,b', 'top.CPU.aluctl,r[0]' , 'top.CPU.fw_data1_s3', 'top.CPU.alusrc_data2','top.CPU.alurslt']\n",
        "time_begin = 0\n",
        "time_end = 40\n",
        "base = 'dec2' # bin, dec, dec2, hex, octal\n"
      ]
    },
    {
      "cell_type": "markdown",
      "metadata": {
        "id": "vUP1z8mMmMzZ"
      },
      "source": [
        "##### Segundo Exemplo"
      ]
    },
    {
      "cell_type": "code",
      "execution_count": null,
      "metadata": {
        "id": "q0iWgKLtmQlZ"
      },
      "outputs": [],
      "source": [
        "%%writefile simple.s\n",
        "addi x2,x0,5\n",
        "addi x3,x0,-2\n",
        "add x5,x3,x2  "
      ]
    },
    {
      "cell_type": "code",
      "execution_count": null,
      "metadata": {
        "id": "4IzMvpKrmeuU"
      },
      "outputs": [],
      "source": [
        "!rm -f -r simple/*\n",
        "assemble()"
      ]
    },
    {
      "cell_type": "code",
      "source": [
        "!cat simple/txt/simple.txt"
      ],
      "metadata": {
        "id": "By8-MmRWnG7n"
      },
      "execution_count": null,
      "outputs": []
    },
    {
      "cell_type": "code",
      "execution_count": null,
      "metadata": {
        "id": "HQ10xZUtmfEM"
      },
      "outputs": [],
      "source": [
        "%%verilog \n",
        "`include \"main.v\""
      ]
    },
    {
      "cell_type": "code",
      "execution_count": null,
      "metadata": {
        "id": "O4oRjcDvmqWI"
      },
      "outputs": [],
      "source": [
        "# Final Register file\n",
        "!cat reg.data"
      ]
    },
    {
      "cell_type": "markdown",
      "metadata": {
        "id": "JXZBaEhqWbvk"
      },
      "source": [
        "#### Load and Store"
      ]
    },
    {
      "cell_type": "markdown",
      "metadata": {
        "id": "AjonSYsE0mYF"
      },
      "source": [
        "##### Código de Teste para Load\n",
        "\n",
        "* x2 = mem[x4+0] = mem[4+0/4] = mem[palavra 1] = 1\n",
        "* x3 = mem[x4+12] = mem[4+12/4] = mem[palavra 4] = 4\n",
        "* x1 = mem[x4+-4] = mem[4-4/4] = mem[palavra 0] = 0\n",
        "\n",
        "Registro\n",
        "```\n",
        "0\n",
        "0\n",
        "1\n",
        "4\n",
        "4\n",
        "5\n",
        "6\n",
        "....\n",
        "```\n"
      ]
    },
    {
      "cell_type": "code",
      "execution_count": null,
      "metadata": {
        "id": "SS7yDIwV0lh-"
      },
      "outputs": [],
      "source": [
        "%%writefile simple.s\n",
        "lw x2,0(x4)\n",
        "lw x3,12(x4)\n",
        "lw x1,-4(x4)"
      ]
    },
    {
      "cell_type": "code",
      "execution_count": null,
      "metadata": {
        "id": "v7MMUf381nFN"
      },
      "outputs": [],
      "source": [
        "!rm -f -r simple/*\n",
        "assemble()"
      ]
    },
    {
      "cell_type": "code",
      "execution_count": null,
      "metadata": {
        "id": "ySJPtd6r1s-J"
      },
      "outputs": [],
      "source": [
        "%%verilog \n",
        "`include \"main.v\""
      ]
    },
    {
      "cell_type": "markdown",
      "metadata": {
        "id": "Y8BaT_6d15lV"
      },
      "source": [
        "Resultado esperado para o Banco de Registradores\n",
        "```\n",
        "0\n",
        "0\n",
        "1\n",
        "4\n",
        "4\n",
        "5\n",
        "6\n",
        "....\n",
        "```"
      ]
    },
    {
      "cell_type": "code",
      "execution_count": null,
      "metadata": {
        "id": "f4qk5LAF1x52"
      },
      "outputs": [],
      "source": [
        "# Final Register file\n",
        "!cat reg.data"
      ]
    },
    {
      "cell_type": "markdown",
      "metadata": {
        "id": "rly05OT-6Lrm"
      },
      "source": [
        "##### Segundo Código de Teste\n",
        "\n",
        "* lw x1,4(x8)\n",
        "* add x2,x2,x2\n",
        "* add x3,x2,x1\n",
        "\n",
        "```\n",
        "x1 = mem[4+8/4] = 3\n",
        "x2 = 2+2 = 4\n",
        "x3 = 4 + 3 = 7\n",
        "```\n",
        "\n",
        "Resultado final esperado para Registradores\n",
        "```\n",
        "0\n",
        "3\n",
        "4\n",
        "7\n",
        "5\n",
        "6\n",
        "....\n",
        "```\n",
        "\n"
      ]
    },
    {
      "cell_type": "code",
      "execution_count": null,
      "metadata": {
        "id": "xxBYdiqu6wOS"
      },
      "outputs": [],
      "source": [
        "%%writefile simple.s\n",
        "lw x1,4(x8)\n",
        "add x2,x2,x2\n",
        "add x3,x2,x1"
      ]
    },
    {
      "cell_type": "code",
      "execution_count": null,
      "metadata": {
        "id": "1nC50jfB647I"
      },
      "outputs": [],
      "source": [
        "!rm -f -r simple/*\n",
        "assemble()"
      ]
    },
    {
      "cell_type": "code",
      "execution_count": null,
      "metadata": {
        "id": "WsOS-_yU-f2U"
      },
      "outputs": [],
      "source": [
        "!cat im_data.txt"
      ]
    },
    {
      "cell_type": "code",
      "execution_count": null,
      "metadata": {
        "id": "oLmLqY4o6_-8"
      },
      "outputs": [],
      "source": [
        "%%verilog \n",
        "`include \"main.v\""
      ]
    },
    {
      "cell_type": "code",
      "execution_count": null,
      "metadata": {
        "id": "QB29JtJD7ErB"
      },
      "outputs": [],
      "source": [
        "# Final Register file\n",
        "!cat reg.data"
      ]
    },
    {
      "cell_type": "markdown",
      "metadata": {
        "id": "7aEPgm627Z3W"
      },
      "source": [
        "##### Terceiro Teste do Lw e unidade de Hazard"
      ]
    },
    {
      "cell_type": "code",
      "execution_count": null,
      "metadata": {
        "id": "TGQKGicI7Yfl"
      },
      "outputs": [],
      "source": [
        "%%writefile simple.s\n",
        "add x2,x2,x2\n",
        "lw x1,4(x8)\n",
        "add x3,x2,x1"
      ]
    },
    {
      "cell_type": "code",
      "execution_count": null,
      "metadata": {
        "id": "Ftu57lnX9pr5"
      },
      "outputs": [],
      "source": [
        "%%waveform test.vcd\n",
        "\n",
        "op_dict = [{'10':'add','110':'sub'}, {'110011':'ALU','10011':'addi','11':'Lw'},{'10':'sp','111':'t2','1001':'s1', '1000':'s0','110':'t1','100':'tp','1':'ra','11':'gp', '101':'t0'} ]\n",
        "\n",
        "sign_list = ['top.CPU.clock_counter','top.CPU.opcoderv,r[1]' , 'top.CPU.rs1', 'top.CPU.rs2','top.CPU.ImmGen', 'top.CPU.rd_s3']\n",
        "time_begin = 0\n",
        "time_end = 40\n",
        "base = 'dec2' # bin, dec, dec2, hex, octal\n"
      ]
    },
    {
      "cell_type": "markdown",
      "metadata": {
        "id": "GQysONx_8bXW"
      },
      "source": [
        "Resultado final esperado para Registradores\n",
        "```\n",
        "0\n",
        "3\n",
        "4\n",
        "7\n",
        "5\n",
        "6\n",
        "....\n",
        "```"
      ]
    },
    {
      "cell_type": "code",
      "execution_count": null,
      "metadata": {
        "id": "RJBnTjE28RBq"
      },
      "outputs": [],
      "source": [
        "# Final Register file\n",
        "!cat reg.data"
      ]
    },
    {
      "cell_type": "markdown",
      "metadata": {
        "id": "ZsLF_xEfWkBU"
      },
      "source": [
        "#### Branches\n",
        "\n",
        "[Arquivo com os binários dos 2 exemplos](https://raw.githubusercontent.com/arduinoufv/inf251/main/riscv/exemplos_para_desvio.txt)"
      ]
    },
    {
      "cell_type": "markdown",
      "metadata": {
        "id": "T53Fdpm3pjrx"
      },
      "source": [
        "##### Código de Teste\n"
      ]
    },
    {
      "cell_type": "code",
      "execution_count": null,
      "metadata": {
        "id": "V5bQQghlo-1a"
      },
      "outputs": [],
      "source": [
        "%%writefile simple.s\n",
        "beq x19,x10,8\n",
        "add x18,x18,x10\n",
        "addi x19,x19,-1\n",
        "beq x0,x0,-6\n",
        "add x1,x1,x1"
      ]
    },
    {
      "cell_type": "code",
      "execution_count": null,
      "metadata": {
        "id": "L-zF_UMjpn0m"
      },
      "outputs": [],
      "source": [
        "!rm -f -r simple/*\n",
        "assemble()"
      ]
    },
    {
      "cell_type": "code",
      "execution_count": null,
      "metadata": {
        "id": "f2Z2IRgxp_Zv"
      },
      "outputs": [],
      "source": [
        "!cat simple/txt/simple.txt"
      ]
    },
    {
      "cell_type": "code",
      "execution_count": null,
      "metadata": {
        "id": "uDyK5ivyryU3"
      },
      "outputs": [],
      "source": [
        "!cat im_data.txt"
      ]
    },
    {
      "cell_type": "code",
      "execution_count": null,
      "metadata": {
        "id": "BePnx3bxsfma"
      },
      "outputs": [],
      "source": [
        "%%verilog \n",
        "`include \"main.v\""
      ]
    },
    {
      "cell_type": "markdown",
      "metadata": {
        "id": "KPsTKWxFtKC9"
      },
      "source": [
        "###### Decode"
      ]
    },
    {
      "cell_type": "code",
      "execution_count": null,
      "metadata": {
        "id": "bsIbeDlBtNY2"
      },
      "outputs": [],
      "source": [
        "%%waveform test.vcd\n",
        "\n",
        "op_dict = [{'10':'add','110':'sub'}, {'110011':'ALU','10011':'addi','11':'Lw', '1100011':'Beq'},{'10':'sp','111':'t2','1001':'s1', '1000':'s0','110':'t1','100':'tp','1':'ra','11':'gp', '101':'t0'} ]\n",
        "\n",
        "sign_list = ['top.CPU.clock_counter', 'top.CPU.pc', 'top.CPU.opcoderv,r[1]' , 'top.CPU.rs1', 'top.CPU.rs2','top.CPU.ImmGen', 'top.CPU.rd_s3', 'top.CPU.pc4_s2', 'top.CPU.baddr_s2']\n",
        "time_begin = 0\n",
        "time_end = 40\n",
        "base = 'dec' # bin, dec, dec2, hex, octal"
      ]
    },
    {
      "cell_type": "markdown",
      "metadata": {
        "id": "Qj_nk0syyVAd"
      },
      "source": [
        "##### Segundo Teste BEQ\n",
        "* 0: nop\n",
        "* 4: addi x1,x1,1\n",
        "* 8: beq  x1,x3,4\n",
        "* 12: beq x0,x0,-4\n",
        "* 16: sub x1,x1,x4"
      ]
    },
    {
      "cell_type": "code",
      "execution_count": null,
      "metadata": {
        "id": "AR5_P_k2ymow"
      },
      "outputs": [],
      "source": [
        "%%writefile simple.s\n",
        "nop\n",
        "addi x1,x1,1\n",
        "beq x1,x3,4\n",
        "beq x0,x0,-4\n",
        "sub x1,x1,x4"
      ]
    },
    {
      "cell_type": "code",
      "execution_count": null,
      "metadata": {
        "id": "LVqjK3SPz1Px"
      },
      "outputs": [],
      "source": [
        "!cat simple/txt/simple.txt"
      ]
    },
    {
      "cell_type": "code",
      "execution_count": null,
      "metadata": {
        "id": "tv6Q4FcX1VGK"
      },
      "outputs": [],
      "source": [
        "!cat im_data.txt"
      ]
    },
    {
      "cell_type": "code",
      "execution_count": null,
      "metadata": {
        "id": "24JK7sn210H2"
      },
      "outputs": [],
      "source": [
        "%%waveform test.vcd\n",
        "\n",
        "op_dict = [{'10':'add','110':'sub'}, {'110011':'ALU','10011':'addi','11':'Lw', '1100011':'Beq'},{'10':'sp','111':'t2','1001':'s1', '1000':'s0','110':'t1','100':'tp','1':'ra','11':'gp', '101':'t0'} ]\n",
        "\n",
        "sign_list = ['top.CPU.clock_counter', 'top.CPU.pc', 'top.CPU.opcoderv,r[1]' , 'top.CPU.rs1', 'top.CPU.rs2','top.CPU.ImmGen', 'top.CPU.rd_s3', 'top.CPU.pc4_s2', 'top.CPU.baddr_s2']\n",
        "time_begin = 0\n",
        "time_end = 40\n",
        "base = 'dec' # bin, dec, dec2, hex, octal"
      ]
    },
    {
      "cell_type": "markdown",
      "metadata": {
        "id": "wCrTx1YH1uHR"
      },
      "source": [
        "###### Explicacao\n",
        "```\n",
        "                 4  8  12 16 20 24 4 8 12 16 20 16 20\n",
        "0  nop           2  3  4  5  6  7  8 9 0  1  2  3  4\n",
        "4  addi x1,x1,1  F  D  E  M  W     F D E  M  W           \n",
        "8  beq x1,x3,4      F  D  E  M  W    F D  E  M  W\n",
        "12 beq x0,x0,-4        F  D  E  M  W   F  D  E \n",
        "16 sub x1,x1,x4           F  D  E         F  D  F  D  E  M W\n",
        "20                           F  D            F     F \n",
        "24                              F\n",
        "```\n"
      ]
    },
    {
      "cell_type": "code",
      "execution_count": null,
      "metadata": {
        "id": "PitSPtOv3njO"
      },
      "outputs": [],
      "source": [
        "%%waveform test.vcd\n",
        "\n",
        "op_dict = [{'10':'add','110':'sub'}, {'10':'sp','111':'t2','1001':'s1', '1000':'s0','110':'t1','100':'tp','1':'ra','11':'gp', '101':'t0'} ]\n",
        "\n",
        "sign_list = ['top.CPU.clock_counter','top.CPU.pc']\n",
        "time_begin = 0\n",
        "time_end = 40\n",
        "base = 'dec2' # bin, dec, dec2, hex, octal\n"
      ]
    },
    {
      "cell_type": "code",
      "execution_count": null,
      "metadata": {
        "id": "DF1xjXk_2I6y"
      },
      "outputs": [],
      "source": [
        "# Final Register file\n",
        "!cat reg.data"
      ]
    },
    {
      "cell_type": "markdown",
      "metadata": {
        "id": "uEnl1lbKV-ik"
      },
      "source": [
        "### Memory Stage"
      ]
    },
    {
      "cell_type": "code",
      "execution_count": null,
      "metadata": {
        "id": "TSsoFYT_5Eah"
      },
      "outputs": [],
      "source": [
        "%%waveform test.vcd\n",
        "\n",
        "op_dict = [{'10':'add','110':'sub'}, {'10':'sp','111':'t2','1001':'s1', '1000':'s0','110':'t1','100':'tp','1':'ra','11':'gp', '101':'t0'} ]\n",
        "\n",
        "sign_list = ['top.CPU.clock_counter','top.CPU.alurslt_s4','top.CPU.wrreg_s4']\n",
        "time_begin = 0\n",
        "time_end = 40\n",
        "base = 'dec2' # bin, dec, dec2, hex, octal\n"
      ]
    },
    {
      "cell_type": "markdown",
      "metadata": {
        "id": "RDwfQEVZWLQQ"
      },
      "source": [
        "### Writback Stage"
      ]
    },
    {
      "cell_type": "code",
      "execution_count": null,
      "metadata": {
        "id": "5EfQ4-b86D84"
      },
      "outputs": [],
      "source": [
        "%%waveform test.vcd\n",
        "\n",
        "op_dict = [{'10':'add','110':'sub'}, {'10':'sp','111':'t2','1001':'s1', '1000':'s0','110':'t1','100':'tp','1':'ra','11':'gp', '101':'t0'} ]\n",
        "\n",
        "sign_list = ['top.CPU.clock_counter','top.CPU.alurslt_s5','top.CPU.wrreg_s5']\n",
        "time_begin = 0\n",
        "time_end = 40\n",
        "base = 'dec2' # bin, dec, dec2, hex, octal\n"
      ]
    },
    {
      "cell_type": "code",
      "execution_count": null,
      "metadata": {
        "id": "rg60MlB68Zux"
      },
      "outputs": [],
      "source": [
        "# Final Register file\n",
        "!cat reg.data"
      ]
    },
    {
      "cell_type": "code",
      "execution_count": null,
      "metadata": {
        "id": "D-5AQtN_8h8b"
      },
      "outputs": [],
      "source": [
        "# Final Data Memory\n",
        "!cat mem.data "
      ]
    },
    {
      "cell_type": "markdown",
      "metadata": {
        "id": "a67dJRqcehA5"
      },
      "source": [
        "# Testes"
      ]
    },
    {
      "cell_type": "markdown",
      "metadata": {
        "id": "kQwi-71ZdGYS"
      },
      "source": [
        "### Problema 1:  ANDI -Bitwise or immediate"
      ]
    },
    {
      "cell_type": "code",
      "source": [
        "%%writefile simple.s\n",
        "addi x1,x0,7\n",
        "andi x2,x1,8"
      ],
      "metadata": {
        "id": "iaUQQfVNOaBG",
        "colab": {
          "base_uri": "https://localhost:8080/"
        },
        "outputId": "1c716b02-c669-4cde-dbe9-9fe0cb063d44"
      },
      "execution_count": 20,
      "outputs": [
        {
          "output_type": "stream",
          "name": "stdout",
          "text": [
            "Overwriting simple.s\n"
          ]
        }
      ]
    },
    {
      "cell_type": "code",
      "source": [
        "!rm -f -r simple/*\n",
        "assemble()"
      ],
      "metadata": {
        "id": "jtomVcbhOrCx",
        "colab": {
          "base_uri": "https://localhost:8080/"
        },
        "outputId": "2b97603b-914d-4ae7-ffc6-af4dceb692ac"
      },
      "execution_count": 21,
      "outputs": [
        {
          "output_type": "stream",
          "name": "stdout",
          "text": [
            "------Writing to Text file------\n",
            "Output file: simple.txt\n",
            "Number of instructions: 2\n"
          ]
        }
      ]
    },
    {
      "cell_type": "code",
      "source": [
        "!cat simple/txt/simple.txt"
      ],
      "metadata": {
        "id": "Zmid8tIMOzn-",
        "colab": {
          "base_uri": "https://localhost:8080/"
        },
        "outputId": "788f129e-eb98-416d-fea6-e6440278d1dd"
      },
      "execution_count": 22,
      "outputs": [
        {
          "output_type": "stream",
          "name": "stdout",
          "text": [
            "00000000011100000000000010010011\n",
            "00000000100000001111000100010011\n"
          ]
        }
      ]
    },
    {
      "cell_type": "code",
      "source": [
        "%%verilog \n",
        "`include \"main.v\""
      ],
      "metadata": {
        "colab": {
          "base_uri": "https://localhost:8080/"
        },
        "id": "X4915oKXACM0",
        "outputId": "f4c1c829-9997-4570-965d-6834f744cde9"
      },
      "execution_count": 23,
      "outputs": [
        {
          "output_type": "stream",
          "name": "stdout",
          "text": [
            "Installing dependencies. Please wait... done!\n",
            "WARNING: ./im_reg.v:7: $readmemh(im_data.txt): Not enough words in the file for the requested range [0:49].\n",
            "VCD info: dumpfile test.vcd opened for output.\n",
            "\n"
          ]
        }
      ]
    },
    {
      "cell_type": "markdown",
      "source": [
        "Operação andi\n",
        "```\n",
        "x1 = 0111\n",
        "8 =  1000\n",
        "---------\n",
        "x2 = 0000\n",
        "```"
      ],
      "metadata": {
        "id": "P_g1Z_QKArO3"
      }
    },
    {
      "cell_type": "code",
      "source": [
        "# Final Register File\n",
        "!cat reg.data"
      ],
      "metadata": {
        "colab": {
          "base_uri": "https://localhost:8080/"
        },
        "id": "mRSfbZHZszbn",
        "outputId": "0102751d-f872-4ee3-c4bc-16994370a04e"
      },
      "execution_count": 24,
      "outputs": [
        {
          "output_type": "stream",
          "name": "stdout",
          "text": [
            "// 0x00000000\n",
            "00000000\n",
            "00000007\n",
            "00000000\n",
            "00000003\n",
            "00000004\n",
            "00000005\n",
            "00000006\n",
            "00000007\n",
            "00000008\n",
            "00000009\n",
            "0000000a\n",
            "0000000b\n",
            "0000000c\n",
            "0000000d\n",
            "0000000e\n",
            "0000000f\n"
          ]
        }
      ]
    },
    {
      "cell_type": "markdown",
      "metadata": {
        "id": "R7nRcCjldGtx"
      },
      "source": [
        "### Problema 2:  SRLI -Shift Right Logical Immediate"
      ]
    },
    {
      "cell_type": "code",
      "source": [
        "%%writefile simple.s\n",
        "addi x1,x0,8\n",
        "slri x2,x1,1"
      ],
      "metadata": {
        "colab": {
          "base_uri": "https://localhost:8080/"
        },
        "id": "5R6vlO-cGX-U",
        "outputId": "d2e4f7eb-5a9c-40f8-c54c-2be24fb125eb"
      },
      "execution_count": 25,
      "outputs": [
        {
          "output_type": "stream",
          "name": "stdout",
          "text": [
            "Overwriting simple.s\n"
          ]
        }
      ]
    },
    {
      "cell_type": "code",
      "source": [
        "!rm -f -r simple/*\n",
        "assemble()"
      ],
      "metadata": {
        "colab": {
          "base_uri": "https://localhost:8080/"
        },
        "id": "2hrmiCS_W5yA",
        "outputId": "0b32967b-6aa6-4f6a-8cfa-58d1d3fe9e3e"
      },
      "execution_count": 26,
      "outputs": [
        {
          "output_type": "stream",
          "name": "stdout",
          "text": [
            "------Writing to Text file------\n",
            "Output file: simple.txt\n",
            "Number of instructions: 2\n"
          ]
        }
      ]
    },
    {
      "cell_type": "code",
      "source": [
        "!cat simple/txt/simple.txt"
      ],
      "metadata": {
        "colab": {
          "base_uri": "https://localhost:8080/"
        },
        "id": "WA-ODOipW_6b",
        "outputId": "eb3f93f0-0386-4390-c12a-4f92626ae514"
      },
      "execution_count": 27,
      "outputs": [
        {
          "output_type": "stream",
          "name": "stdout",
          "text": [
            "00000000100000000000000010010011\n",
            "00000000000100001101000100010011\n"
          ]
        }
      ]
    },
    {
      "cell_type": "code",
      "source": [
        "%%verilog \n",
        "`include \"main.v\""
      ],
      "metadata": {
        "colab": {
          "base_uri": "https://localhost:8080/"
        },
        "id": "zP44G4OKWUZa",
        "outputId": "772b3467-19a7-411f-fa03-47111b6445f5"
      },
      "execution_count": 28,
      "outputs": [
        {
          "output_type": "stream",
          "name": "stdout",
          "text": [
            "WARNING: ./im_reg.v:7: $readmemh(im_data.txt): Not enough words in the file for the requested range [0:49].\n",
            "VCD info: dumpfile test.vcd opened for output.\n",
            "\n"
          ]
        }
      ]
    },
    {
      "cell_type": "markdown",
      "source": [
        "resultado esperado\n",
        "```\n",
        "x1 = 8\n",
        "x2 = 4\n",
        "```"
      ],
      "metadata": {
        "id": "rbPdseR-6-8_"
      }
    },
    {
      "cell_type": "code",
      "source": [
        "# Final Register File\n",
        "!cat reg.data"
      ],
      "metadata": {
        "colab": {
          "base_uri": "https://localhost:8080/"
        },
        "id": "kKgl8gDoWXt2",
        "outputId": "af5ae9cf-070e-475f-ae28-5c68d74bade2"
      },
      "execution_count": 29,
      "outputs": [
        {
          "output_type": "stream",
          "name": "stdout",
          "text": [
            "// 0x00000000\n",
            "00000000\n",
            "00000008\n",
            "00000004\n",
            "00000003\n",
            "00000004\n",
            "00000005\n",
            "00000006\n",
            "00000007\n",
            "00000008\n",
            "00000009\n",
            "0000000a\n",
            "0000000b\n",
            "0000000c\n",
            "0000000d\n",
            "0000000e\n",
            "0000000f\n"
          ]
        }
      ]
    },
    {
      "cell_type": "markdown",
      "metadata": {
        "id": "s1PBRH61dHGJ"
      },
      "source": [
        "### Problema 3:  J - Jump\n",
        "\n"
      ]
    },
    {
      "cell_type": "code",
      "source": [
        "%%writefile simple.s\n",
        "addi x1,x0,5\n",
        "addi x2,x0,0\n",
        "j loop\n",
        "addi x1,x0,0\n",
        "addi x2,x0,5\n",
        "loop:\n",
        "addi x2,x2,9"
      ],
      "metadata": {
        "colab": {
          "base_uri": "https://localhost:8080/"
        },
        "id": "nSde1N5Gfzd0",
        "outputId": "5b67a4c6-cc18-487e-b95b-5fb7671707c5"
      },
      "execution_count": 30,
      "outputs": [
        {
          "output_type": "stream",
          "name": "stdout",
          "text": [
            "Overwriting simple.s\n"
          ]
        }
      ]
    },
    {
      "cell_type": "code",
      "source": [
        "!rm -f -r simple/*\n",
        "assemble()"
      ],
      "metadata": {
        "colab": {
          "base_uri": "https://localhost:8080/"
        },
        "id": "xGCPFRrLgSYr",
        "outputId": "d682f85e-9f31-4eb2-ce29-05bad10ff4cc"
      },
      "execution_count": 31,
      "outputs": [
        {
          "output_type": "stream",
          "name": "stdout",
          "text": [
            "------Writing to Text file------\n",
            "Output file: simple.txt\n",
            "Number of instructions: 6\n"
          ]
        }
      ]
    },
    {
      "cell_type": "code",
      "source": [
        "!cat simple/txt/simple.txt"
      ],
      "metadata": {
        "colab": {
          "base_uri": "https://localhost:8080/"
        },
        "id": "gnqR7UwkgWZB",
        "outputId": "6840ca63-958a-493d-c2be-21daa539e1c2"
      },
      "execution_count": 32,
      "outputs": [
        {
          "output_type": "stream",
          "name": "stdout",
          "text": [
            "00000000010100000000000010010011\n",
            "00000000000000000000000100010011\n",
            "00000000000000000110000001101111\n",
            "00000000000000000000000010010011\n",
            "00000000010100000000000100010011\n",
            "00000000100100010000000100010011\n"
          ]
        }
      ]
    },
    {
      "cell_type": "code",
      "source": [
        "%%verilog \n",
        "`include \"main.v\""
      ],
      "metadata": {
        "colab": {
          "base_uri": "https://localhost:8080/"
        },
        "id": "JJg2Iu6XgWDE",
        "outputId": "70ead0c8-08ea-4888-a565-264154a97acb"
      },
      "execution_count": 33,
      "outputs": [
        {
          "output_type": "stream",
          "name": "stdout",
          "text": [
            "WARNING: ./im_reg.v:7: $readmemh(im_data.txt): Not enough words in the file for the requested range [0:49].\n",
            "VCD info: dumpfile test.vcd opened for output.\n",
            "\n"
          ]
        }
      ]
    },
    {
      "cell_type": "markdown",
      "source": [
        "resultado esperado \n",
        "```\n",
        "x1 = 5\n",
        "x2 = 9\n",
        "```"
      ],
      "metadata": {
        "id": "6v4V7dJ-39Yo"
      }
    },
    {
      "cell_type": "code",
      "source": [
        "# Final Register File\n",
        "!cat reg.data"
      ],
      "metadata": {
        "colab": {
          "base_uri": "https://localhost:8080/"
        },
        "id": "TN5yj6owgb0s",
        "outputId": "9eb1105c-2e0d-4e75-f21f-e76be7b6e836"
      },
      "execution_count": 34,
      "outputs": [
        {
          "output_type": "stream",
          "name": "stdout",
          "text": [
            "// 0x00000000\n",
            "00000000\n",
            "00000005\n",
            "00000009\n",
            "00000003\n",
            "00000004\n",
            "00000005\n",
            "00000006\n",
            "00000007\n",
            "00000008\n",
            "00000009\n",
            "0000000a\n",
            "0000000b\n",
            "0000000c\n",
            "0000000d\n",
            "0000000e\n",
            "0000000f\n"
          ]
        }
      ]
    },
    {
      "cell_type": "markdown",
      "source": [
        "### Problema 4:  BGT -Branch on Greater Than"
      ],
      "metadata": {
        "id": "La2kwUnb8GzR"
      }
    },
    {
      "cell_type": "code",
      "source": [
        "%%writefile simple.s\n",
        "addi x1,x0,5\n",
        "addi x2,x0,0\n",
        "bgt x1,x2,loop\n",
        "addi x1,x0,0\n",
        "addi x2,x0,5\n",
        "loop:\n",
        "addi x2,x2,8"
      ],
      "metadata": {
        "colab": {
          "base_uri": "https://localhost:8080/"
        },
        "id": "j-y8tIm6znVl",
        "outputId": "10def934-bfb3-4db4-9927-188d40c0d81b"
      },
      "execution_count": 35,
      "outputs": [
        {
          "output_type": "stream",
          "name": "stdout",
          "text": [
            "Overwriting simple.s\n"
          ]
        }
      ]
    },
    {
      "cell_type": "code",
      "source": [
        "!rm -f -r simple/*\n",
        "assemble()"
      ],
      "metadata": {
        "colab": {
          "base_uri": "https://localhost:8080/"
        },
        "id": "CKpIX2XFD8Th",
        "outputId": "fafa6c2d-a7b1-4ab7-c2b4-6d9f71f2ef04"
      },
      "execution_count": 36,
      "outputs": [
        {
          "output_type": "stream",
          "name": "stdout",
          "text": [
            "------Writing to Text file------\n",
            "Output file: simple.txt\n",
            "Number of instructions: 6\n"
          ]
        }
      ]
    },
    {
      "cell_type": "code",
      "source": [
        "!cat simple/txt/simple.txt"
      ],
      "metadata": {
        "colab": {
          "base_uri": "https://localhost:8080/"
        },
        "id": "gz9vK_c_D_7q",
        "outputId": "5e0cf5f7-fcde-4e97-b11d-066e49be57cc"
      },
      "execution_count": 37,
      "outputs": [
        {
          "output_type": "stream",
          "name": "stdout",
          "text": [
            "00000000010100000000000010010011\n",
            "00000000000000000000000100010011\n",
            "00000000000100010100011001100011\n",
            "00000000000000000000000010010011\n",
            "00000000010100000000000100010011\n",
            "00000000100000010000000100010011\n"
          ]
        }
      ]
    },
    {
      "cell_type": "code",
      "source": [
        "%%verilog \n",
        "`include \"main.v\""
      ],
      "metadata": {
        "colab": {
          "base_uri": "https://localhost:8080/"
        },
        "id": "7xBGfoolEEeE",
        "outputId": "593cab51-2594-44c8-eefc-079165ce4b27"
      },
      "execution_count": 38,
      "outputs": [
        {
          "output_type": "stream",
          "name": "stdout",
          "text": [
            "WARNING: ./im_reg.v:7: $readmemh(im_data.txt): Not enough words in the file for the requested range [0:49].\n",
            "VCD info: dumpfile test.vcd opened for output.\n",
            "\n"
          ]
        }
      ]
    },
    {
      "cell_type": "markdown",
      "source": [
        "resultado esperado\n",
        "```\n",
        "x1 = 5\n",
        "x2 = 8\n",
        "```"
      ],
      "metadata": {
        "id": "-rk6Lv9buKPn"
      }
    },
    {
      "cell_type": "code",
      "source": [
        "# Final Register File\n",
        "!cat reg.data"
      ],
      "metadata": {
        "colab": {
          "base_uri": "https://localhost:8080/"
        },
        "id": "Y0ogcpTaEMsx",
        "outputId": "6383549e-b46d-48c4-9b6e-c1ef39572ab0"
      },
      "execution_count": 39,
      "outputs": [
        {
          "output_type": "stream",
          "name": "stdout",
          "text": [
            "// 0x00000000\n",
            "00000000\n",
            "00000005\n",
            "00000008\n",
            "00000003\n",
            "00000004\n",
            "00000005\n",
            "00000006\n",
            "00000007\n",
            "00000008\n",
            "00000009\n",
            "0000000a\n",
            "0000000b\n",
            "0000000c\n",
            "0000000d\n",
            "0000000e\n",
            "0000000f\n"
          ]
        }
      ]
    }
  ],
  "metadata": {
    "colab": {
      "collapsed_sections": [
        "4BjVE2So_49i",
        "byD55wbEAA2d",
        "m7prYdSHEIB3",
        "IV58BdsjEW4g",
        "ElXz175AFYrE",
        "n-kjYcXLE2-X",
        "YXqDKayiFLke",
        "3ViCX8TRNrWR",
        "Jt9IYNGiOonY",
        "788H9XHXKABg",
        "5DC87DONFtRv",
        "ArFBP_AoFvf8",
        "1KRUc4HkFznz",
        "JXZBaEhqWbvk",
        "ZsLF_xEfWkBU",
        "uEnl1lbKV-ik",
        "RDwfQEVZWLQQ"
      ],
      "name": "TP2_Flavio.ipynb",
      "provenance": []
    },
    "kernelspec": {
      "display_name": "Python 3",
      "language": "python",
      "name": "python3"
    },
    "language_info": {
      "codemirror_mode": {
        "name": "ipython",
        "version": 3
      },
      "file_extension": ".py",
      "mimetype": "text/x-python",
      "name": "python",
      "nbconvert_exporter": "python",
      "pygments_lexer": "ipython3",
      "version": "3.8.5"
    }
  },
  "nbformat": 4,
  "nbformat_minor": 0
}